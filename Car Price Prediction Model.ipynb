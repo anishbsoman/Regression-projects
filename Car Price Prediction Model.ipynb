{
 "cells": [
  {
   "cell_type": "code",
   "execution_count": 1,
   "id": "9138b8f4",
   "metadata": {},
   "outputs": [],
   "source": [
    "import warnings\n",
    "warnings.filterwarnings('ignore')"
   ]
  },
  {
   "cell_type": "code",
   "execution_count": 3,
   "id": "50074d34",
   "metadata": {},
   "outputs": [
    {
     "data": {
      "text/html": [
       "<div>\n",
       "<style scoped>\n",
       "    .dataframe tbody tr th:only-of-type {\n",
       "        vertical-align: middle;\n",
       "    }\n",
       "\n",
       "    .dataframe tbody tr th {\n",
       "        vertical-align: top;\n",
       "    }\n",
       "\n",
       "    .dataframe thead th {\n",
       "        text-align: right;\n",
       "    }\n",
       "</style>\n",
       "<table border=\"1\" class=\"dataframe\">\n",
       "  <thead>\n",
       "    <tr style=\"text-align: right;\">\n",
       "      <th></th>\n",
       "      <th>model</th>\n",
       "      <th>year</th>\n",
       "      <th>price</th>\n",
       "      <th>transmission</th>\n",
       "      <th>mileage</th>\n",
       "      <th>fuelType</th>\n",
       "      <th>tax</th>\n",
       "      <th>mpg</th>\n",
       "      <th>engineSize</th>\n",
       "    </tr>\n",
       "  </thead>\n",
       "  <tbody>\n",
       "    <tr>\n",
       "      <th>0</th>\n",
       "      <td>Fiesta</td>\n",
       "      <td>2017</td>\n",
       "      <td>12000</td>\n",
       "      <td>Automatic</td>\n",
       "      <td>15944.0</td>\n",
       "      <td>Petrol</td>\n",
       "      <td>150</td>\n",
       "      <td>57.7</td>\n",
       "      <td>1.0</td>\n",
       "    </tr>\n",
       "    <tr>\n",
       "      <th>1</th>\n",
       "      <td>Focus</td>\n",
       "      <td>2018</td>\n",
       "      <td>14000</td>\n",
       "      <td>Manual</td>\n",
       "      <td>9083.0</td>\n",
       "      <td>Petrol</td>\n",
       "      <td>150</td>\n",
       "      <td>57.7</td>\n",
       "      <td>1.0</td>\n",
       "    </tr>\n",
       "    <tr>\n",
       "      <th>2</th>\n",
       "      <td>Focus</td>\n",
       "      <td>2017</td>\n",
       "      <td>13000</td>\n",
       "      <td>Manual</td>\n",
       "      <td>12456.0</td>\n",
       "      <td>Petrol</td>\n",
       "      <td>150</td>\n",
       "      <td>57.7</td>\n",
       "      <td>1.0</td>\n",
       "    </tr>\n",
       "    <tr>\n",
       "      <th>3</th>\n",
       "      <td>Fiesta</td>\n",
       "      <td>2019</td>\n",
       "      <td>17500</td>\n",
       "      <td>Manual</td>\n",
       "      <td>10460.0</td>\n",
       "      <td>Petrol</td>\n",
       "      <td>145</td>\n",
       "      <td>40.3</td>\n",
       "      <td>1.5</td>\n",
       "    </tr>\n",
       "    <tr>\n",
       "      <th>4</th>\n",
       "      <td>Fiesta</td>\n",
       "      <td>2019</td>\n",
       "      <td>16500</td>\n",
       "      <td>Automatic</td>\n",
       "      <td>1482.0</td>\n",
       "      <td>Petrol</td>\n",
       "      <td>145</td>\n",
       "      <td>48.7</td>\n",
       "      <td>1.0</td>\n",
       "    </tr>\n",
       "    <tr>\n",
       "      <th>...</th>\n",
       "      <td>...</td>\n",
       "      <td>...</td>\n",
       "      <td>...</td>\n",
       "      <td>...</td>\n",
       "      <td>...</td>\n",
       "      <td>...</td>\n",
       "      <td>...</td>\n",
       "      <td>...</td>\n",
       "      <td>...</td>\n",
       "    </tr>\n",
       "    <tr>\n",
       "      <th>17961</th>\n",
       "      <td>B-MAX</td>\n",
       "      <td>2017</td>\n",
       "      <td>8999</td>\n",
       "      <td>Manual</td>\n",
       "      <td>16700.0</td>\n",
       "      <td>Petrol</td>\n",
       "      <td>150</td>\n",
       "      <td>47.1</td>\n",
       "      <td>1.4</td>\n",
       "    </tr>\n",
       "    <tr>\n",
       "      <th>17962</th>\n",
       "      <td>B-MAX</td>\n",
       "      <td>2014</td>\n",
       "      <td>7499</td>\n",
       "      <td>Manual</td>\n",
       "      <td>40700.0</td>\n",
       "      <td>Petrol</td>\n",
       "      <td>30</td>\n",
       "      <td>57.7</td>\n",
       "      <td>1.0</td>\n",
       "    </tr>\n",
       "    <tr>\n",
       "      <th>17963</th>\n",
       "      <td>Focus</td>\n",
       "      <td>2015</td>\n",
       "      <td>9999</td>\n",
       "      <td>Manual</td>\n",
       "      <td>7010.0</td>\n",
       "      <td>Diesel</td>\n",
       "      <td>20</td>\n",
       "      <td>67.3</td>\n",
       "      <td>1.6</td>\n",
       "    </tr>\n",
       "    <tr>\n",
       "      <th>17964</th>\n",
       "      <td>KA</td>\n",
       "      <td>2018</td>\n",
       "      <td>8299</td>\n",
       "      <td>Manual</td>\n",
       "      <td>5007.0</td>\n",
       "      <td>Petrol</td>\n",
       "      <td>145</td>\n",
       "      <td>57.7</td>\n",
       "      <td>1.2</td>\n",
       "    </tr>\n",
       "    <tr>\n",
       "      <th>17965</th>\n",
       "      <td>Focus</td>\n",
       "      <td>2015</td>\n",
       "      <td>8299</td>\n",
       "      <td>Manual</td>\n",
       "      <td>5007.0</td>\n",
       "      <td>Petrol</td>\n",
       "      <td>22</td>\n",
       "      <td>57.7</td>\n",
       "      <td>1.0</td>\n",
       "    </tr>\n",
       "  </tbody>\n",
       "</table>\n",
       "<p>17966 rows × 9 columns</p>\n",
       "</div>"
      ],
      "text/plain": [
       "         model  year  price transmission  mileage fuelType  tax   mpg  \\\n",
       "0       Fiesta  2017  12000    Automatic  15944.0   Petrol  150  57.7   \n",
       "1        Focus  2018  14000       Manual   9083.0   Petrol  150  57.7   \n",
       "2        Focus  2017  13000       Manual  12456.0   Petrol  150  57.7   \n",
       "3       Fiesta  2019  17500       Manual  10460.0   Petrol  145  40.3   \n",
       "4       Fiesta  2019  16500    Automatic   1482.0   Petrol  145  48.7   \n",
       "...        ...   ...    ...          ...      ...      ...  ...   ...   \n",
       "17961    B-MAX  2017   8999       Manual  16700.0   Petrol  150  47.1   \n",
       "17962    B-MAX  2014   7499       Manual  40700.0   Petrol   30  57.7   \n",
       "17963    Focus  2015   9999       Manual   7010.0   Diesel   20  67.3   \n",
       "17964       KA  2018   8299       Manual   5007.0   Petrol  145  57.7   \n",
       "17965    Focus  2015   8299       Manual   5007.0   Petrol   22  57.7   \n",
       "\n",
       "       engineSize  \n",
       "0             1.0  \n",
       "1             1.0  \n",
       "2             1.0  \n",
       "3             1.5  \n",
       "4             1.0  \n",
       "...           ...  \n",
       "17961         1.4  \n",
       "17962         1.0  \n",
       "17963         1.6  \n",
       "17964         1.2  \n",
       "17965         1.0  \n",
       "\n",
       "[17966 rows x 9 columns]"
      ]
     },
     "execution_count": 3,
     "metadata": {},
     "output_type": "execute_result"
    }
   ],
   "source": [
    "import numpy as np\n",
    "import pandas as pd\n",
    "\n",
    "#Loading the dataset\n",
    "df=pd.read_csv('ford.csv')\n",
    "df"
   ]
  },
  {
   "cell_type": "markdown",
   "id": "2ce7912f",
   "metadata": {},
   "source": [
    "# Data health Checkup"
   ]
  },
  {
   "cell_type": "markdown",
   "id": "e1328e69",
   "metadata": {},
   "source": [
    "1. Completeness Checkup"
   ]
  },
  {
   "cell_type": "code",
   "execution_count": 6,
   "id": "ef4895e7",
   "metadata": {},
   "outputs": [
    {
     "name": "stdout",
     "output_type": "stream",
     "text": [
      "17966\n"
     ]
    }
   ],
   "source": [
    "#Data coverage\n",
    "num_rows = df.shape[0]\n",
    "print(num_rows)"
   ]
  },
  {
   "cell_type": "code",
   "execution_count": 7,
   "id": "eeeab75d",
   "metadata": {
    "scrolled": true
   },
   "outputs": [
    {
     "data": {
      "text/html": [
       "<div>\n",
       "<style scoped>\n",
       "    .dataframe tbody tr th:only-of-type {\n",
       "        vertical-align: middle;\n",
       "    }\n",
       "\n",
       "    .dataframe tbody tr th {\n",
       "        vertical-align: top;\n",
       "    }\n",
       "\n",
       "    .dataframe thead th {\n",
       "        text-align: right;\n",
       "    }\n",
       "</style>\n",
       "<table border=\"1\" class=\"dataframe\">\n",
       "  <thead>\n",
       "    <tr style=\"text-align: right;\">\n",
       "      <th></th>\n",
       "      <th>year</th>\n",
       "      <th>price</th>\n",
       "      <th>mileage</th>\n",
       "      <th>tax</th>\n",
       "      <th>mpg</th>\n",
       "      <th>engineSize</th>\n",
       "    </tr>\n",
       "  </thead>\n",
       "  <tbody>\n",
       "    <tr>\n",
       "      <th>count</th>\n",
       "      <td>17966.000000</td>\n",
       "      <td>17966.000000</td>\n",
       "      <td>17940.000000</td>\n",
       "      <td>17966.000000</td>\n",
       "      <td>17966.000000</td>\n",
       "      <td>17966.000000</td>\n",
       "    </tr>\n",
       "    <tr>\n",
       "      <th>mean</th>\n",
       "      <td>2016.866470</td>\n",
       "      <td>12279.534844</td>\n",
       "      <td>23366.431494</td>\n",
       "      <td>113.321385</td>\n",
       "      <td>57.906980</td>\n",
       "      <td>1.350807</td>\n",
       "    </tr>\n",
       "    <tr>\n",
       "      <th>std</th>\n",
       "      <td>2.050336</td>\n",
       "      <td>4741.343657</td>\n",
       "      <td>19471.130116</td>\n",
       "      <td>62.017770</td>\n",
       "      <td>10.125696</td>\n",
       "      <td>0.432367</td>\n",
       "    </tr>\n",
       "    <tr>\n",
       "      <th>min</th>\n",
       "      <td>1996.000000</td>\n",
       "      <td>495.000000</td>\n",
       "      <td>1.000000</td>\n",
       "      <td>0.000000</td>\n",
       "      <td>20.800000</td>\n",
       "      <td>0.000000</td>\n",
       "    </tr>\n",
       "    <tr>\n",
       "      <th>25%</th>\n",
       "      <td>2016.000000</td>\n",
       "      <td>8999.000000</td>\n",
       "      <td>9994.250000</td>\n",
       "      <td>30.000000</td>\n",
       "      <td>52.300000</td>\n",
       "      <td>1.000000</td>\n",
       "    </tr>\n",
       "    <tr>\n",
       "      <th>50%</th>\n",
       "      <td>2017.000000</td>\n",
       "      <td>11291.000000</td>\n",
       "      <td>18246.500000</td>\n",
       "      <td>145.000000</td>\n",
       "      <td>58.900000</td>\n",
       "      <td>1.200000</td>\n",
       "    </tr>\n",
       "    <tr>\n",
       "      <th>75%</th>\n",
       "      <td>2018.000000</td>\n",
       "      <td>15299.000000</td>\n",
       "      <td>31064.250000</td>\n",
       "      <td>145.000000</td>\n",
       "      <td>65.700000</td>\n",
       "      <td>1.500000</td>\n",
       "    </tr>\n",
       "    <tr>\n",
       "      <th>max</th>\n",
       "      <td>2060.000000</td>\n",
       "      <td>54995.000000</td>\n",
       "      <td>177644.000000</td>\n",
       "      <td>580.000000</td>\n",
       "      <td>201.800000</td>\n",
       "      <td>5.000000</td>\n",
       "    </tr>\n",
       "  </tbody>\n",
       "</table>\n",
       "</div>"
      ],
      "text/plain": [
       "               year         price        mileage           tax           mpg  \\\n",
       "count  17966.000000  17966.000000   17940.000000  17966.000000  17966.000000   \n",
       "mean    2016.866470  12279.534844   23366.431494    113.321385     57.906980   \n",
       "std        2.050336   4741.343657   19471.130116     62.017770     10.125696   \n",
       "min     1996.000000    495.000000       1.000000      0.000000     20.800000   \n",
       "25%     2016.000000   8999.000000    9994.250000     30.000000     52.300000   \n",
       "50%     2017.000000  11291.000000   18246.500000    145.000000     58.900000   \n",
       "75%     2018.000000  15299.000000   31064.250000    145.000000     65.700000   \n",
       "max     2060.000000  54995.000000  177644.000000    580.000000    201.800000   \n",
       "\n",
       "         engineSize  \n",
       "count  17966.000000  \n",
       "mean       1.350807  \n",
       "std        0.432367  \n",
       "min        0.000000  \n",
       "25%        1.000000  \n",
       "50%        1.200000  \n",
       "75%        1.500000  \n",
       "max        5.000000  "
      ]
     },
     "execution_count": 7,
     "metadata": {},
     "output_type": "execute_result"
    }
   ],
   "source": [
    "df.describe()"
   ]
  },
  {
   "cell_type": "code",
   "execution_count": 96,
   "id": "4813a179",
   "metadata": {},
   "outputs": [
    {
     "name": "stdout",
     "output_type": "stream",
     "text": [
      "model            0\n",
      "year             0\n",
      "price            0\n",
      "transmission    15\n",
      "mileage         26\n",
      "fuelType         0\n",
      "tax              0\n",
      "mpg              0\n",
      "engineSize       0\n",
      "dtype: int64\n"
     ]
    }
   ],
   "source": [
    "#Missing values\n",
    "missing_values = df.isnull().sum()\n",
    "print(missing_values)"
   ]
  },
  {
   "cell_type": "code",
   "execution_count": 97,
   "id": "f7a988ba",
   "metadata": {},
   "outputs": [],
   "source": [
    "#feature completeness\n"
   ]
  },
  {
   "cell_type": "markdown",
   "id": "c87e7d61",
   "metadata": {},
   "source": [
    "**Accuracy checks**"
   ]
  },
  {
   "cell_type": "code",
   "execution_count": 8,
   "id": "6eea19b8",
   "metadata": {},
   "outputs": [
    {
     "name": "stdout",
     "output_type": "stream",
     "text": [
      "Duplicate Rows:\n",
      "153\n"
     ]
    }
   ],
   "source": [
    "#duplicates\n",
    "duplicate_rows = df[df.duplicated()]\n",
    "print(\"Duplicate Rows:\")\n",
    "print(len(duplicate_rows))\n"
   ]
  },
  {
   "cell_type": "code",
   "execution_count": 99,
   "id": "63e764d0",
   "metadata": {},
   "outputs": [
    {
     "name": "stdout",
     "output_type": "stream",
     "text": [
      "The number of outliers of mileage are 876\n",
      "The number of outliers of tax are 20\n",
      "The number of outliers of mpg are 216\n"
     ]
    }
   ],
   "source": [
    "#outliers using IQR\n",
    "def find_outliers_iqr(data):\n",
    "    q1 = data.quantile(0.25)\n",
    "    q3 = data.quantile(0.75)\n",
    "    iqr = q3 - q1\n",
    "    lower_bound = q1 - 1.5 * iqr\n",
    "    upper_bound = q3 + 1.5 * iqr\n",
    "    outliers = data[(data < lower_bound) | (data > upper_bound)]\n",
    "    return outliers\n",
    "\n",
    "column_names = ['mileage','tax','mpg']\n",
    "\n",
    "for column_name in column_names:\n",
    "    outliers = find_outliers_iqr(df[column_name])\n",
    "    print(f\"The number of outliers of {column_name} are\",len(outliers))"
   ]
  },
  {
   "cell_type": "code",
   "execution_count": 100,
   "id": "be3ca1c3",
   "metadata": {},
   "outputs": [
    {
     "name": "stdout",
     "output_type": "stream",
     "text": [
      "The number of outliers of mileage are 42\n",
      "The number of outliers of tax are 12\n",
      "The number of outliers of mpg are 5\n"
     ]
    }
   ],
   "source": [
    "#Outliers using Zscore\n",
    "def find_outliers_zscore(data, threshold=5):\n",
    "    z_scores = np.abs((data - data.mean()) / data.std())\n",
    "    outliers = data[z_scores > threshold]\n",
    "    return outliers\n",
    "\n",
    "column_names = ['mileage','tax','mpg']\n",
    "\n",
    "for column_name in column_names:\n",
    "    outliers = find_outliers_zscore(df[column_name])\n",
    "    print(f\"The number of outliers of {column_name} are\",len(outliers))"
   ]
  },
  {
   "cell_type": "code",
   "execution_count": 14,
   "id": "80a0ddc0",
   "metadata": {},
   "outputs": [
    {
     "data": {
      "text/plain": [
       "<matplotlib.legend.Legend at 0x13b685cc310>"
      ]
     },
     "execution_count": 14,
     "metadata": {},
     "output_type": "execute_result"
    },
    {
     "data": {
      "image/png": "[encoded data removed]",
      "text/plain": [
       "<Figure size 640x480 with 1 Axes>"
      ]
     },
     "metadata": {},
     "output_type": "display_data"
    }
   ],
   "source": [
    "import matplotlib.pyplot as plt\n",
    "\n",
    "# Function to detect outliers based on Z-score method\n",
    "def detect_outliers_zscore(data, threshold=7):\n",
    "    z_scores = np.abs((data - data.mean()) / data.std())\n",
    "    return z_scores > threshold\n",
    "\n",
    "# Detect outliers in both features\n",
    "outliers_feature1 = detect_outliers_zscore(df['mileage'])\n",
    "outliers_feature2 = detect_outliers_zscore(df['tax'])\n",
    "\n",
    "# Create a scatter plot\n",
    "plt.scatter(df['mileage'], df['mileage'], c='blue', label='Data Points')\n",
    "plt.scatter(df['mileage'][outliers_feature1], df['tax'][outliers_feature1], c='red', label='Outliers (mileage)')\n",
    "plt.scatter(df['mileage'][outliers_feature2], df['tax'][outliers_feature2], c='green', label='Outliers (tax)')\n",
    "\n",
    "# Set labels and legend\n",
    "plt.xlabel('mileage')\n",
    "plt.ylabel('tax')\n",
    "plt.legend(loc='upper right')"
   ]
  },
  {
   "cell_type": "markdown",
   "id": "abaf9e7b",
   "metadata": {},
   "source": [
    "In both methods, the threshold parameter determines the sensitivity of outlier detection. A higher threshold value will capture more outliers, while a lower value will be more conservative."
   ]
  },
  {
   "cell_type": "markdown",
   "id": "65ca0035",
   "metadata": {},
   "source": [
    "# Data Preprocessing"
   ]
  },
  {
   "cell_type": "code",
   "execution_count": 102,
   "id": "58a3953d",
   "metadata": {},
   "outputs": [
    {
     "data": {
      "text/plain": [
       "17966"
      ]
     },
     "execution_count": 102,
     "metadata": {},
     "output_type": "execute_result"
    }
   ],
   "source": [
    "len(df)"
   ]
  },
  {
   "cell_type": "markdown",
   "id": "03e98cac",
   "metadata": {},
   "source": [
    "**Data consistent**\n",
    "\n",
    "**Convert columns which looks numerical but are categorical**"
   ]
  },
  {
   "attachments": {
    "image.png": {
     "image/png": "[encoded data removed]"
    }
   },
   "cell_type": "markdown",
   "id": "92f70ea8",
   "metadata": {},
   "source": [
    "![image.png](attachment:image.png)"
   ]
  },
  {
   "cell_type": "code",
   "execution_count": 18,
   "id": "c6a63f99",
   "metadata": {},
   "outputs": [
    {
     "data": {
      "text/plain": [
       "1.0    7765\n",
       "1.5    3418\n",
       "2.0    3311\n",
       "1.2    1626\n",
       "1.6     923\n",
       "1.1     559\n",
       "1.4     112\n",
       "2.3      80\n",
       "0.0      51\n",
       "5.0      45\n",
       "1.8      35\n",
       "2.2      13\n",
       "2.5      13\n",
       "1.3      13\n",
       "3.2       1\n",
       "1.7       1\n",
       "Name: engineSize, dtype: int64"
      ]
     },
     "execution_count": 18,
     "metadata": {},
     "output_type": "execute_result"
    }
   ],
   "source": [
    "df['engineSize'].value_counts()"
   ]
  },
  {
   "cell_type": "code",
   "execution_count": 15,
   "id": "298ef2a4",
   "metadata": {},
   "outputs": [
    {
     "data": {
      "text/plain": [
       "model            object\n",
       "year              int64\n",
       "price             int64\n",
       "transmission     object\n",
       "mileage         float64\n",
       "fuelType         object\n",
       "tax               int64\n",
       "mpg             float64\n",
       "engineSize      float64\n",
       "dtype: object"
      ]
     },
     "execution_count": 15,
     "metadata": {},
     "output_type": "execute_result"
    }
   ],
   "source": [
    "df.dtypes"
   ]
  },
  {
   "cell_type": "code",
   "execution_count": 103,
   "id": "603bba6f",
   "metadata": {},
   "outputs": [],
   "source": [
    "\n",
    "def convert_to_categorical(df, column_name):\n",
    "    df[column_name] = df[column_name].astype('category')\n",
    "    return df\n",
    "\n",
    "column_name_to_convert = 'year'\n",
    "df = convert_to_categorical(df, column_name_to_convert)\n",
    "\n",
    "column_name_to_convert = 'engineSize'\n",
    "df = convert_to_categorical(df, column_name_to_convert)"
   ]
  },
  {
   "cell_type": "markdown",
   "id": "16b9370a",
   "metadata": {},
   "source": [
    "-----------------------------------------------------------------------------------------------"
   ]
  },
  {
   "cell_type": "markdown",
   "id": "fa48cae7",
   "metadata": {},
   "source": [
    "**Missing Values**"
   ]
  },
  {
   "attachments": {
    "image.png": {
     "image/png": "[encoded data removed]"
    }
   },
   "cell_type": "markdown",
   "id": "ab680605",
   "metadata": {},
   "source": [
    "![image.png](attachment:image.png)"
   ]
  },
  {
   "cell_type": "code",
   "execution_count": null,
   "id": "1690bba7",
   "metadata": {},
   "outputs": [],
   "source": [
    "[1,1.2,1.3,1.4,1.4,5,6.5,4,1,3,33,2,1.5,1.7,1.2,1.2,1,1,1,NaN,1,1,2,3]"
   ]
  },
  {
   "cell_type": "code",
   "execution_count": 104,
   "id": "25f7c9e2",
   "metadata": {},
   "outputs": [],
   "source": [
    "#Fill missing values with mean for each numerical column\n",
    "numerical_columns = df.select_dtypes(include=['int64', 'float64']).columns\n",
    "\n",
    "for column in numerical_columns:\n",
    "    mean_value = df[column].mean()\n",
    "    df[column].fillna(mean_value, inplace=True)\n"
   ]
  },
  {
   "cell_type": "code",
   "execution_count": 105,
   "id": "7b71e9cb",
   "metadata": {},
   "outputs": [],
   "source": [
    "##Fill missing values with mode for each categorical column\n",
    "categorical_columns = df.select_dtypes(include=['object','category']).columns\n",
    "\n",
    "for column in categorical_columns:\n",
    "    if df[column].isnull().any():\n",
    "        # Replace missing values with the mean of the column\n",
    "        df[column].fillna(df[column].mode()[0], inplace=True)\n"
   ]
  },
  {
   "cell_type": "code",
   "execution_count": 106,
   "id": "e03b020d",
   "metadata": {},
   "outputs": [
    {
     "data": {
      "text/plain": [
       "model           0\n",
       "year            0\n",
       "price           0\n",
       "transmission    0\n",
       "mileage         0\n",
       "fuelType        0\n",
       "tax             0\n",
       "mpg             0\n",
       "engineSize      0\n",
       "dtype: int64"
      ]
     },
     "execution_count": 106,
     "metadata": {},
     "output_type": "execute_result"
    }
   ],
   "source": [
    "#check if null values are there anymore\n",
    "df.isnull().sum()"
   ]
  },
  {
   "cell_type": "markdown",
   "id": "79da8cb7",
   "metadata": {},
   "source": [
    "-----------------------------------------------------------------------------------------------"
   ]
  },
  {
   "cell_type": "markdown",
   "id": "c7a3aae1",
   "metadata": {},
   "source": [
    "**Remove duplicates from the entire DataFrame**"
   ]
  },
  {
   "cell_type": "code",
   "execution_count": 107,
   "id": "77cc730a",
   "metadata": {},
   "outputs": [],
   "source": [
    "df_no_duplicates = df.drop_duplicates()"
   ]
  },
  {
   "cell_type": "markdown",
   "id": "48b721c3",
   "metadata": {},
   "source": [
    "-----------------------------------------------------------------------------------------------"
   ]
  },
  {
   "cell_type": "markdown",
   "id": "1853ddbe",
   "metadata": {},
   "source": [
    "**Removing Outliers**"
   ]
  },
  {
   "attachments": {
    "image.png": {
     "image/png": "[encoded data removed]"
    }
   },
   "cell_type": "markdown",
   "id": "afc217ca",
   "metadata": {},
   "source": [
    "![image.png](attachment:image.png)"
   ]
  },
  {
   "cell_type": "code",
   "execution_count": 108,
   "id": "57372c7c",
   "metadata": {},
   "outputs": [
    {
     "name": "stdout",
     "output_type": "stream",
     "text": [
      "The number of outliers of mileage are 42\n",
      "The number of outliers of tax are 12\n",
      "The number of outliers of mpg are 5\n"
     ]
    }
   ],
   "source": [
    "column_names = ['mileage','tax','mpg']\n",
    "\n",
    "for column_name in column_names:\n",
    "    outliers = find_outliers_zscore(df[column_name])\n",
    "    print(f\"The number of outliers of {column_name} are\",len(outliers))"
   ]
  },
  {
   "cell_type": "code",
   "execution_count": 109,
   "id": "ab22fec2",
   "metadata": {},
   "outputs": [],
   "source": [
    "#The Z-score method removes data points that fall\n",
    "#above or below a specified number of standard deviations from the mean.\n",
    "#removing outliers\n",
    "from scipy import stats"
   ]
  },
  {
   "cell_type": "code",
   "execution_count": 110,
   "id": "82940dbf",
   "metadata": {},
   "outputs": [
    {
     "name": "stdout",
     "output_type": "stream",
     "text": [
      "         model  year  price transmission  mileage fuelType  tax   mpg  \\\n",
      "0       Fiesta  2017  12000    Automatic  15944.0   Petrol  150  57.7   \n",
      "1        Focus  2018  14000       Manual   9083.0   Petrol  150  57.7   \n",
      "2        Focus  2017  13000       Manual  12456.0   Petrol  150  57.7   \n",
      "3       Fiesta  2019  17500       Manual  10460.0   Petrol  145  40.3   \n",
      "4       Fiesta  2019  16500    Automatic   1482.0   Petrol  145  48.7   \n",
      "...        ...   ...    ...          ...      ...      ...  ...   ...   \n",
      "17961    B-MAX  2017   8999       Manual  16700.0   Petrol  150  47.1   \n",
      "17962    B-MAX  2014   7499       Manual  40700.0   Petrol   30  57.7   \n",
      "17963    Focus  2015   9999       Manual   7010.0   Diesel   20  67.3   \n",
      "17964       KA  2018   8299       Manual   5007.0   Petrol  145  57.7   \n",
      "17965    Focus  2015   8299       Manual   5007.0   Petrol   22  57.7   \n",
      "\n",
      "      engineSize  \n",
      "0            1.0  \n",
      "1            1.0  \n",
      "2            1.0  \n",
      "3            1.5  \n",
      "4            1.0  \n",
      "...          ...  \n",
      "17961        1.4  \n",
      "17962        1.0  \n",
      "17963        1.6  \n",
      "17964        1.2  \n",
      "17965        1.0  \n",
      "\n",
      "[17489 rows x 9 columns]\n"
     ]
    }
   ],
   "source": [
    "z_scores = np.abs(stats.zscore(df[column_names]))\n",
    "threshold = 3\n",
    "outlier_indices = np.where(z_scores > threshold)\n",
    "outlier_indices = np.unique(outlier_indices[0])\n",
    "df_cleaned = df.drop(df.index[outlier_indices])\n",
    "df = df_cleaned\n",
    "print(df)"
   ]
  },
  {
   "cell_type": "code",
   "execution_count": 111,
   "id": "5eff69ed",
   "metadata": {
    "scrolled": true
   },
   "outputs": [
    {
     "name": "stdout",
     "output_type": "stream",
     "text": [
      "model           0\n",
      "year            0\n",
      "price           0\n",
      "transmission    0\n",
      "mileage         0\n",
      "fuelType        0\n",
      "tax             0\n",
      "mpg             0\n",
      "engineSize      0\n",
      "dtype: int64\n"
     ]
    }
   ],
   "source": [
    "missing_values = df.isnull().sum()\n",
    "print(missing_values)"
   ]
  },
  {
   "cell_type": "markdown",
   "id": "5ea21e1d",
   "metadata": {},
   "source": [
    "-----------------------------------------------------------------------------------------------"
   ]
  },
  {
   "cell_type": "markdown",
   "id": "f1d661c0",
   "metadata": {},
   "source": [
    "**Standardisation for Data Consistency**"
   ]
  },
  {
   "cell_type": "code",
   "execution_count": 112,
   "id": "403c54cb",
   "metadata": {},
   "outputs": [
    {
     "name": "stdout",
     "output_type": "stream",
     "text": [
      "         model  year  price transmission  mileage fuelType  tax   mpg  \\\n",
      "0       Fiesta  2017  12000    Automatic  15944.0   Petrol  150  57.7   \n",
      "1        Focus  2018  14000       Manual   9083.0   Petrol  150  57.7   \n",
      "2        Focus  2017  13000       Manual  12456.0   Petrol  150  57.7   \n",
      "3       Fiesta  2019  17500       Manual  10460.0   Petrol  145  40.3   \n",
      "4       Fiesta  2019  16500    Automatic   1482.0   Petrol  145  48.7   \n",
      "...        ...   ...    ...          ...      ...      ...  ...   ...   \n",
      "17961    B-MAX  2017   8999       Manual  16700.0   Petrol  150  47.1   \n",
      "17962    B-MAX  2014   7499       Manual  40700.0   Petrol   30  57.7   \n",
      "17963    Focus  2015   9999       Manual   7010.0   Diesel   20  67.3   \n",
      "17964       KA  2018   8299       Manual   5007.0   Petrol  145  57.7   \n",
      "17965    Focus  2015   8299       Manual   5007.0   Petrol   22  57.7   \n",
      "\n",
      "      engineSize  \n",
      "0            1.0  \n",
      "1            1.0  \n",
      "2            1.0  \n",
      "3            1.5  \n",
      "4            1.0  \n",
      "...          ...  \n",
      "17961        1.4  \n",
      "17962        1.0  \n",
      "17963        1.6  \n",
      "17964        1.2  \n",
      "17965        1.0  \n",
      "\n",
      "[17489 rows x 9 columns]\n"
     ]
    }
   ],
   "source": [
    "import pandas as pd\n",
    "from sklearn.preprocessing import StandardScaler\n",
    "\n",
    "numerical_columns = df.select_dtypes(include=['int64', 'float64']).columns\n",
    "categorical_columns = df.select_dtypes(include=['object']).columns\n",
    "\n",
    "scaler = StandardScaler()\n",
    "# df[numerical_columns] = scaler.fit_transform(df[numerical_columns])\n",
    "\n",
    "print(df)\n"
   ]
  },
  {
   "cell_type": "code",
   "execution_count": 113,
   "id": "23646863",
   "metadata": {},
   "outputs": [
    {
     "data": {
      "text/plain": [
       "17489"
      ]
     },
     "execution_count": 113,
     "metadata": {},
     "output_type": "execute_result"
    }
   ],
   "source": [
    "len(df)"
   ]
  },
  {
   "cell_type": "markdown",
   "id": "3130f1b2",
   "metadata": {},
   "source": [
    "-----------------------------------------------------------------------------------------------"
   ]
  },
  {
   "cell_type": "markdown",
   "id": "4bf32c81",
   "metadata": {},
   "source": [
    "# EDA"
   ]
  },
  {
   "cell_type": "markdown",
   "id": "76339268",
   "metadata": {},
   "source": [
    "**Measures of Dispersion**"
   ]
  },
  {
   "cell_type": "code",
   "execution_count": 114,
   "id": "b9a29f5d",
   "metadata": {},
   "outputs": [
    {
     "data": {
      "text/html": [
       "<div>\n",
       "<style scoped>\n",
       "    .dataframe tbody tr th:only-of-type {\n",
       "        vertical-align: middle;\n",
       "    }\n",
       "\n",
       "    .dataframe tbody tr th {\n",
       "        vertical-align: top;\n",
       "    }\n",
       "\n",
       "    .dataframe thead th {\n",
       "        text-align: right;\n",
       "    }\n",
       "</style>\n",
       "<table border=\"1\" class=\"dataframe\">\n",
       "  <thead>\n",
       "    <tr style=\"text-align: right;\">\n",
       "      <th></th>\n",
       "      <th>price</th>\n",
       "      <th>mileage</th>\n",
       "      <th>tax</th>\n",
       "      <th>mpg</th>\n",
       "    </tr>\n",
       "  </thead>\n",
       "  <tbody>\n",
       "    <tr>\n",
       "      <th>count</th>\n",
       "      <td>17489.000000</td>\n",
       "      <td>17489.000000</td>\n",
       "      <td>17489.000000</td>\n",
       "      <td>17489.000000</td>\n",
       "    </tr>\n",
       "    <tr>\n",
       "      <th>mean</th>\n",
       "      <td>12368.849448</td>\n",
       "      <td>21885.997611</td>\n",
       "      <td>112.961690</td>\n",
       "      <td>57.877003</td>\n",
       "    </tr>\n",
       "    <tr>\n",
       "      <th>std</th>\n",
       "      <td>4501.889628</td>\n",
       "      <td>16275.668022</td>\n",
       "      <td>59.952741</td>\n",
       "      <td>9.396118</td>\n",
       "    </tr>\n",
       "    <tr>\n",
       "      <th>min</th>\n",
       "      <td>795.000000</td>\n",
       "      <td>1.000000</td>\n",
       "      <td>0.000000</td>\n",
       "      <td>28.800000</td>\n",
       "    </tr>\n",
       "    <tr>\n",
       "      <th>25%</th>\n",
       "      <td>9199.000000</td>\n",
       "      <td>9892.000000</td>\n",
       "      <td>30.000000</td>\n",
       "      <td>52.300000</td>\n",
       "    </tr>\n",
       "    <tr>\n",
       "      <th>50%</th>\n",
       "      <td>11440.000000</td>\n",
       "      <td>17918.000000</td>\n",
       "      <td>145.000000</td>\n",
       "      <td>58.900000</td>\n",
       "    </tr>\n",
       "    <tr>\n",
       "      <th>75%</th>\n",
       "      <td>15395.000000</td>\n",
       "      <td>30149.000000</td>\n",
       "      <td>145.000000</td>\n",
       "      <td>65.700000</td>\n",
       "    </tr>\n",
       "    <tr>\n",
       "      <th>max</th>\n",
       "      <td>54995.000000</td>\n",
       "      <td>81621.000000</td>\n",
       "      <td>290.000000</td>\n",
       "      <td>85.600000</td>\n",
       "    </tr>\n",
       "  </tbody>\n",
       "</table>\n",
       "</div>"
      ],
      "text/plain": [
       "              price       mileage           tax           mpg\n",
       "count  17489.000000  17489.000000  17489.000000  17489.000000\n",
       "mean   12368.849448  21885.997611    112.961690     57.877003\n",
       "std     4501.889628  16275.668022     59.952741      9.396118\n",
       "min      795.000000      1.000000      0.000000     28.800000\n",
       "25%     9199.000000   9892.000000     30.000000     52.300000\n",
       "50%    11440.000000  17918.000000    145.000000     58.900000\n",
       "75%    15395.000000  30149.000000    145.000000     65.700000\n",
       "max    54995.000000  81621.000000    290.000000     85.600000"
      ]
     },
     "execution_count": 114,
     "metadata": {},
     "output_type": "execute_result"
    }
   ],
   "source": [
    "df.describe()"
   ]
  },
  {
   "cell_type": "markdown",
   "id": "9e75b0f0",
   "metadata": {},
   "source": [
    "**Data Distribution(Univariate Analysis)**"
   ]
  },
  {
   "cell_type": "code",
   "execution_count": 115,
   "id": "4a4098c4",
   "metadata": {},
   "outputs": [
    {
     "data": {
      "text/plain": [
       "Index(['model', 'year', 'transmission', 'fuelType', 'engineSize'], dtype='object')"
      ]
     },
     "execution_count": 115,
     "metadata": {},
     "output_type": "execute_result"
    }
   ],
   "source": [
    "categorical_columns = df.select_dtypes(include=['object','category']).columns\n",
    "categorical_columns"
   ]
  },
  {
   "cell_type": "code",
   "execution_count": 116,
   "id": "4c72263f",
   "metadata": {},
   "outputs": [],
   "source": [
    "def univariate_categorical_analysis(df, column):\n",
    "   \n",
    "    print(\"Frequency count for\", column)\n",
    "    print(df[column].value_counts())\n",
    "    print()\n",
    "\n",
    "    print(\"Percentage distribution for\", column)\n",
    "    print(df[column].value_counts(normalize=True) * 100)\n",
    "    print()\n",
    "    \n",
    "    plt.figure(figsize=(8, 6))\n",
    "    df[column].value_counts().plot(kind='bar', color='skyblue')\n",
    "    plt.title(\"Bar Plot: \" + column)\n",
    "    plt.xlabel(column)\n",
    "    plt.ylabel(\"Frequency\")\n",
    "    plt.show()\n"
   ]
  },
  {
   "cell_type": "markdown",
   "id": "3f4c0458",
   "metadata": {},
   "source": [
    "1.Model"
   ]
  },
  {
   "cell_type": "code",
   "execution_count": 117,
   "id": "754237e7",
   "metadata": {},
   "outputs": [
    {
     "name": "stdout",
     "output_type": "stream",
     "text": [
      "Frequency count for model\n",
      " Fiesta                   6420\n",
      " Focus                    4480\n",
      " Kuga                     2198\n",
      " EcoSport                 1143\n",
      " Ka+                       530\n",
      " C-MAX                     521\n",
      " Mondeo                    441\n",
      " B-MAX                     355\n",
      " S-MAX                     280\n",
      " Grand C-MAX               244\n",
      " Galaxy                    215\n",
      " Edge                      208\n",
      " KA                        190\n",
      " Puma                       79\n",
      " Tourneo Custom             69\n",
      " Grand Tourneo Connect      56\n",
      " Tourneo Connect            32\n",
      " Mustang                    12\n",
      " Fusion                     11\n",
      " Streetka                    2\n",
      " Escort                      1\n",
      " Transit Tourneo             1\n",
      "Focus                        1\n",
      "Name: model, dtype: int64\n",
      "\n",
      "Percentage distribution for model\n",
      " Fiesta                   36.708788\n",
      " Focus                    25.616102\n",
      " Kuga                     12.567900\n",
      " EcoSport                  6.535537\n",
      " Ka+                       3.030476\n",
      " C-MAX                     2.979015\n",
      " Mondeo                    2.521585\n",
      " B-MAX                     2.029847\n",
      " S-MAX                     1.601006\n",
      " Grand C-MAX               1.395163\n",
      " Galaxy                    1.229344\n",
      " Edge                      1.189319\n",
      " KA                        1.086397\n",
      " Puma                      0.451713\n",
      " Tourneo Custom            0.394534\n",
      " Grand Tourneo Connect     0.320201\n",
      " Tourneo Connect           0.182972\n",
      " Mustang                   0.068615\n",
      " Fusion                    0.062897\n",
      " Streetka                  0.011436\n",
      " Escort                    0.005718\n",
      " Transit Tourneo           0.005718\n",
      "Focus                      0.005718\n",
      "Name: model, dtype: float64\n",
      "\n"
     ]
    },
    {
     "data": {
      "image/png": "[encoded data removed]",
      "text/plain": [
       "<Figure size 800x600 with 1 Axes>"
      ]
     },
     "metadata": {},
     "output_type": "display_data"
    }
   ],
   "source": [
    "univariate_categorical_analysis(df, 'model')"
   ]
  },
  {
   "cell_type": "code",
   "execution_count": 118,
   "id": "48bfa6ff",
   "metadata": {},
   "outputs": [
    {
     "data": {
      "image/png": "[encoded data removed]",
      "text/plain": [
       "<Figure size 1600x600 with 1 Axes>"
      ]
     },
     "metadata": {},
     "output_type": "display_data"
    }
   ],
   "source": [
    "model_counts=df[\"model\"].value_counts()\n",
    "top10=model_counts[0:10]\n",
    "plt.figure(figsize=(16,6))\n",
    "plt.style.use(\"fivethirtyeight\")\n",
    "plt.bar(top10.index,top10.values)\n",
    "plt.show()"
   ]
  },
  {
   "cell_type": "markdown",
   "id": "c83ad3f2",
   "metadata": {},
   "source": [
    "We can see the top 10 models here."
   ]
  },
  {
   "cell_type": "markdown",
   "id": "377f2d7d",
   "metadata": {},
   "source": [
    "--------------------------------------------------------------------------------------------------------"
   ]
  },
  {
   "cell_type": "markdown",
   "id": "42d33ce5",
   "metadata": {},
   "source": [
    "Year"
   ]
  },
  {
   "cell_type": "code",
   "execution_count": 119,
   "id": "9b123c6c",
   "metadata": {},
   "outputs": [
    {
     "name": "stdout",
     "output_type": "stream",
     "text": [
      "Frequency count for year\n",
      "2017    4846\n",
      "2018    3978\n",
      "2019    3179\n",
      "2016    2262\n",
      "2015    1308\n",
      "2014     785\n",
      "2013     583\n",
      "2020     245\n",
      "2012      94\n",
      "2011      65\n",
      "2009      52\n",
      "2010      31\n",
      "2008      29\n",
      "2007      14\n",
      "2006       6\n",
      "2005       5\n",
      "2004       2\n",
      "1996       1\n",
      "1998       1\n",
      "2002       1\n",
      "2000       1\n",
      "2060       1\n",
      "2003       0\n",
      "Name: year, dtype: int64\n",
      "\n",
      "Percentage distribution for year\n",
      "2017    27.708846\n",
      "2018    22.745726\n",
      "2019    18.177140\n",
      "2016    12.933844\n",
      "2015     7.478987\n",
      "2014     4.488536\n",
      "2013     3.333524\n",
      "2020     1.400881\n",
      "2012     0.537481\n",
      "2011     0.371662\n",
      "2009     0.297330\n",
      "2010     0.177254\n",
      "2008     0.165819\n",
      "2007     0.080050\n",
      "2006     0.034307\n",
      "2005     0.028589\n",
      "2004     0.011436\n",
      "1996     0.005718\n",
      "1998     0.005718\n",
      "2002     0.005718\n",
      "2000     0.005718\n",
      "2060     0.005718\n",
      "2003     0.000000\n",
      "Name: year, dtype: float64\n",
      "\n"
     ]
    },
    {
     "data": {
      "image/png": "[encoded data removed]",
      "text/plain": [
       "<Figure size 800x600 with 1 Axes>"
      ]
     },
     "metadata": {},
     "output_type": "display_data"
    }
   ],
   "source": [
    "univariate_categorical_analysis(df, 'year')"
   ]
  },
  {
   "cell_type": "code",
   "execution_count": 120,
   "id": "f7e2288c",
   "metadata": {},
   "outputs": [
    {
     "data": {
      "image/png": "[encoded data removed]",
      "text/plain": [
       "<Figure size 1600x600 with 1 Axes>"
      ]
     },
     "metadata": {},
     "output_type": "display_data"
    }
   ],
   "source": [
    "year_counts=df['year'].value_counts()\n",
    "year10=year_counts[0:10]\n",
    "plt.figure(figsize=(16,6))\n",
    "plt.style.use(\"ggplot\")\n",
    "plt.bar(year10.index,year10.values)\n",
    "plt.show()"
   ]
  },
  {
   "cell_type": "markdown",
   "id": "24a10828",
   "metadata": {},
   "source": [
    "Top 10years count"
   ]
  },
  {
   "cell_type": "markdown",
   "id": "c50f0a7b",
   "metadata": {},
   "source": [
    "--------------------------------------------------------------------------------------------------------"
   ]
  },
  {
   "cell_type": "code",
   "execution_count": null,
   "id": "bba5375c",
   "metadata": {},
   "outputs": [],
   "source": []
  },
  {
   "cell_type": "code",
   "execution_count": 121,
   "id": "7870c809",
   "metadata": {},
   "outputs": [
    {
     "name": "stdout",
     "output_type": "stream",
     "text": [
      "Frequency count for transmission\n",
      "Manual       15111\n",
      "Automatic     1311\n",
      "Semi-Auto     1067\n",
      "Name: transmission, dtype: int64\n",
      "\n",
      "Percentage distribution for transmission\n",
      "Manual       86.402882\n",
      "Automatic     7.496140\n",
      "Semi-Auto     6.100978\n",
      "Name: transmission, dtype: float64\n",
      "\n"
     ]
    },
    {
     "data": {
      "image/png": "[encoded data removed]",
      "text/plain": [
       "<Figure size 800x600 with 1 Axes>"
      ]
     },
     "metadata": {},
     "output_type": "display_data"
    }
   ],
   "source": [
    "univariate_categorical_analysis(df, 'transmission')"
   ]
  },
  {
   "cell_type": "code",
   "execution_count": 122,
   "id": "218973a1",
   "metadata": {},
   "outputs": [
    {
     "name": "stdout",
     "output_type": "stream",
     "text": [
      "Frequency count for fuelType\n",
      "Petrol      11998\n",
      "Diesel       5473\n",
      "Hybrid         15\n",
      "Electric        2\n",
      "Other           1\n",
      "Name: fuelType, dtype: int64\n",
      "\n",
      "Percentage distribution for fuelType\n",
      "Petrol      68.603122\n",
      "Diesel      31.293956\n",
      "Hybrid       0.085768\n",
      "Electric     0.011436\n",
      "Other        0.005718\n",
      "Name: fuelType, dtype: float64\n",
      "\n"
     ]
    },
    {
     "data": {
      "image/png": "[encoded data removed]",
      "text/plain": [
       "<Figure size 800x600 with 1 Axes>"
      ]
     },
     "metadata": {},
     "output_type": "display_data"
    }
   ],
   "source": [
    "univariate_categorical_analysis(df, 'fuelType')"
   ]
  },
  {
   "cell_type": "code",
   "execution_count": 123,
   "id": "e3a7cfe1",
   "metadata": {},
   "outputs": [
    {
     "name": "stdout",
     "output_type": "stream",
     "text": [
      "Frequency count for engineSize\n",
      "1.0    7756\n",
      "1.5    3306\n",
      "2.0    3190\n",
      "1.2    1602\n",
      "1.6     829\n",
      "1.1     559\n",
      "1.4      88\n",
      "2.3      76\n",
      "0.0      50\n",
      "1.8      13\n",
      "1.3      11\n",
      "2.2       8\n",
      "5.0       1\n",
      "1.7       0\n",
      "2.5       0\n",
      "3.2       0\n",
      "Name: engineSize, dtype: int64\n",
      "\n",
      "Percentage distribution for engineSize\n",
      "1.0    44.347876\n",
      "1.5    18.903311\n",
      "2.0    18.240037\n",
      "1.2     9.160043\n",
      "1.6     4.740122\n",
      "1.1     3.196295\n",
      "1.4     0.503173\n",
      "2.3     0.434559\n",
      "0.0     0.285894\n",
      "1.8     0.074332\n",
      "1.3     0.062897\n",
      "2.2     0.045743\n",
      "5.0     0.005718\n",
      "1.7     0.000000\n",
      "2.5     0.000000\n",
      "3.2     0.000000\n",
      "Name: engineSize, dtype: float64\n",
      "\n"
     ]
    },
    {
     "data": {
      "image/png": "[encoded data removed]",
      "text/plain": [
       "<Figure size 800x600 with 1 Axes>"
      ]
     },
     "metadata": {},
     "output_type": "display_data"
    }
   ],
   "source": [
    "univariate_categorical_analysis(df, 'engineSize')"
   ]
  },
  {
   "cell_type": "markdown",
   "id": "4b4ad866",
   "metadata": {},
   "source": [
    "-----------------------------------------------------------------------------------------------"
   ]
  },
  {
   "cell_type": "code",
   "execution_count": 124,
   "id": "0512ec89",
   "metadata": {},
   "outputs": [
    {
     "data": {
      "text/plain": [
       "Index(['price', 'mileage', 'tax', 'mpg'], dtype='object')"
      ]
     },
     "execution_count": 124,
     "metadata": {},
     "output_type": "execute_result"
    }
   ],
   "source": [
    "numerical_columns = df.select_dtypes(include=['int64', 'float64']).columns\n",
    "numerical_columns"
   ]
  },
  {
   "cell_type": "code",
   "execution_count": 125,
   "id": "31c5853f",
   "metadata": {},
   "outputs": [],
   "source": [
    "def univariate_numerical_analysis(df, column):\n",
    "    # Measures of central tendency\n",
    "    print(\"Measures of central tendency for\", column)\n",
    "    print(\"Mean:\", df[column].mean())\n",
    "    print(\"Median:\", df[column].median())\n",
    "    print(\"Mode:\", df[column].mode().values[0])\n",
    "    print()\n",
    "\n",
    "    # Measures of dispersion\n",
    "    print(\"Measures of dispersion for\", column)\n",
    "    print(\"Standard Deviation:\", df[column].std())\n",
    "    print(\"Range:\", df[column].max() - df[column].min())\n",
    "    print()\n",
    "\n",
    "    # Histogram\n",
    "    plt.figure(figsize=(8, 6))\n",
    "    plt.hist(df[column], bins=10, color='lightcoral', edgecolor='black')\n",
    "    plt.title(\"Histogram: \" + column)\n",
    "    plt.xlabel(column)\n",
    "    plt.ylabel(\"Frequency\")\n",
    "    plt.show()"
   ]
  },
  {
   "cell_type": "code",
   "execution_count": 126,
   "id": "4b753d85",
   "metadata": {},
   "outputs": [
    {
     "name": "stdout",
     "output_type": "stream",
     "text": [
      "Measures of central tendency for price\n",
      "Mean: 12368.849448224599\n",
      "Median: 11440.0\n",
      "Mode: 10000\n",
      "\n",
      "Measures of dispersion for price\n",
      "Standard Deviation: 4501.889627556245\n",
      "Range: 54200\n",
      "\n"
     ]
    },
    {
     "data": {
      "image/png": "[encoded data removed]",
      "text/plain": [
       "<Figure size 800x600 with 1 Axes>"
      ]
     },
     "metadata": {},
     "output_type": "display_data"
    }
   ],
   "source": [
    "univariate_numerical_analysis(df, 'price')"
   ]
  },
  {
   "cell_type": "code",
   "execution_count": 127,
   "id": "6be5e7bf",
   "metadata": {},
   "outputs": [],
   "source": [
    "# Here we can see that Price goes into Negative,hence we need to remove the negative values"
   ]
  },
  {
   "cell_type": "code",
   "execution_count": 128,
   "id": "2b55db3b",
   "metadata": {},
   "outputs": [],
   "source": [
    "# df=df[df['price'] >= 0]"
   ]
  },
  {
   "cell_type": "markdown",
   "id": "07cfeb98",
   "metadata": {},
   "source": [
    "--------------------------------------------------------------------------------"
   ]
  },
  {
   "cell_type": "code",
   "execution_count": 129,
   "id": "fbbefb9e",
   "metadata": {},
   "outputs": [
    {
     "name": "stdout",
     "output_type": "stream",
     "text": [
      "Measures of central tendency for mileage\n",
      "Mean: 21885.99761100352\n",
      "Median: 17918.0\n",
      "Mode: 10.0\n",
      "\n",
      "Measures of dispersion for mileage\n",
      "Standard Deviation: 16275.668021590802\n",
      "Range: 81620.0\n",
      "\n"
     ]
    },
    {
     "data": {
      "image/png": "[encoded data removed]",
      "text/plain": [
       "<Figure size 800x600 with 1 Axes>"
      ]
     },
     "metadata": {},
     "output_type": "display_data"
    }
   ],
   "source": [
    "univariate_numerical_analysis(df, 'mileage')"
   ]
  },
  {
   "cell_type": "markdown",
   "id": "73f400d0",
   "metadata": {},
   "source": [
    "Here we can see that Mileage goes into Negative,hence we need to remove the negative values"
   ]
  },
  {
   "cell_type": "code",
   "execution_count": 130,
   "id": "ec1a26fb",
   "metadata": {},
   "outputs": [],
   "source": [
    "df=df[df['mileage'] >= 0]"
   ]
  },
  {
   "cell_type": "markdown",
   "id": "ddf15b1b",
   "metadata": {},
   "source": [
    "--------------------------------------------------------------------------------"
   ]
  },
  {
   "cell_type": "code",
   "execution_count": 131,
   "id": "8376897b",
   "metadata": {},
   "outputs": [
    {
     "name": "stdout",
     "output_type": "stream",
     "text": [
      "Measures of central tendency for tax\n",
      "Mean: 112.96169020527188\n",
      "Median: 145.0\n",
      "Mode: 145\n",
      "\n",
      "Measures of dispersion for tax\n",
      "Standard Deviation: 59.95274058106985\n",
      "Range: 290\n",
      "\n"
     ]
    },
    {
     "data": {
      "image/png": "[encoded data removed]",
      "text/plain": [
       "<Figure size 800x600 with 1 Axes>"
      ]
     },
     "metadata": {},
     "output_type": "display_data"
    }
   ],
   "source": [
    "univariate_numerical_analysis(df, 'tax')"
   ]
  },
  {
   "cell_type": "markdown",
   "id": "4002f86c",
   "metadata": {},
   "source": [
    "Here we can see that tax goes into Negative,hence we need to remove the negative values\n"
   ]
  },
  {
   "cell_type": "code",
   "execution_count": 132,
   "id": "ca41d69f",
   "metadata": {},
   "outputs": [],
   "source": [
    "df=df[df['tax'] >= 0]"
   ]
  },
  {
   "cell_type": "markdown",
   "id": "d0767c52",
   "metadata": {},
   "source": [
    "--------------------------------------------------------------------------------"
   ]
  },
  {
   "cell_type": "code",
   "execution_count": 133,
   "id": "b1268ae8",
   "metadata": {},
   "outputs": [
    {
     "name": "stdout",
     "output_type": "stream",
     "text": [
      "Measures of central tendency for mpg\n",
      "Mean: 57.8770026874037\n",
      "Median: 58.9\n",
      "Mode: 65.7\n",
      "\n",
      "Measures of dispersion for mpg\n",
      "Standard Deviation: 9.396118210440152\n",
      "Range: 56.8\n",
      "\n"
     ]
    },
    {
     "data": {
      "image/png": "[encoded data removed]",
      "text/plain": [
       "<Figure size 800x600 with 1 Axes>"
      ]
     },
     "metadata": {},
     "output_type": "display_data"
    }
   ],
   "source": [
    "#miles per gallon\n",
    "univariate_numerical_analysis(df, 'mpg')"
   ]
  },
  {
   "cell_type": "markdown",
   "id": "13332421",
   "metadata": {},
   "source": [
    "-----------------------------------------------------------------------------------------------"
   ]
  },
  {
   "cell_type": "markdown",
   "id": "0d121e15",
   "metadata": {},
   "source": [
    "**Correlation Analysis**"
   ]
  },
  {
   "attachments": {
    "image.png": {
     "image/png": "[encoded data removed]"
    }
   },
   "cell_type": "markdown",
   "id": "7dbf8f66",
   "metadata": {},
   "source": [
    "![image.png](attachment:image.png)"
   ]
  },
  {
   "cell_type": "markdown",
   "id": "cf050ae0",
   "metadata": {},
   "source": [
    "**1.Pearsons correlation**\n",
    "1. Between features and label\n",
    "2. Between a feature and another feature"
   ]
  },
  {
   "cell_type": "code",
   "execution_count": 134,
   "id": "c82671fe",
   "metadata": {},
   "outputs": [
    {
     "data": {
      "text/plain": [
       "Index(['price', 'mileage', 'tax', 'mpg'], dtype='object')"
      ]
     },
     "execution_count": 134,
     "metadata": {},
     "output_type": "execute_result"
    }
   ],
   "source": [
    "numerical_columns = df.select_dtypes(include=['int64', 'float64']).columns\n",
    "numerical_columns"
   ]
  },
  {
   "cell_type": "code",
   "execution_count": 135,
   "id": "c2ace3a5",
   "metadata": {},
   "outputs": [
    {
     "data": {
      "text/plain": [
       "PearsonRResult(statistic=-0.5182146862114633, pvalue=0.0)"
      ]
     },
     "execution_count": 135,
     "metadata": {},
     "output_type": "execute_result"
    }
   ],
   "source": [
    "import scipy.stats\n",
    "x = df['mileage']\n",
    "y = df['price']\n",
    "pearsoncorr=scipy.stats.pearsonr(x, y)    \n",
    "pearsoncorr"
   ]
  },
  {
   "cell_type": "code",
   "execution_count": 136,
   "id": "015e7cad",
   "metadata": {},
   "outputs": [
    {
     "data": {
      "text/plain": [
       "PearsonRResult(statistic=0.4428874360761434, pvalue=0.0)"
      ]
     },
     "execution_count": 136,
     "metadata": {},
     "output_type": "execute_result"
    }
   ],
   "source": [
    "import scipy.stats\n",
    "x = df['tax']\n",
    "y = df['price']\n",
    "pearsoncorr=scipy.stats.pearsonr(x, y)    \n",
    "pearsoncorr"
   ]
  },
  {
   "cell_type": "code",
   "execution_count": 137,
   "id": "e41387bf",
   "metadata": {},
   "outputs": [
    {
     "data": {
      "text/plain": [
       "PearsonRResult(statistic=-0.38031731259505164, pvalue=0.0)"
      ]
     },
     "execution_count": 137,
     "metadata": {},
     "output_type": "execute_result"
    }
   ],
   "source": [
    "import scipy.stats\n",
    "x = df['mpg']\n",
    "y = df['price']\n",
    "pearsoncorr=scipy.stats.pearsonr(x, y)    \n",
    "pearsoncorr"
   ]
  },
  {
   "cell_type": "markdown",
   "id": "49b3ab05",
   "metadata": {},
   "source": [
    "In all we can see negative correlation"
   ]
  },
  {
   "cell_type": "markdown",
   "id": "45d9a041",
   "metadata": {},
   "source": [
    "**Heat Map**"
   ]
  },
  {
   "cell_type": "code",
   "execution_count": 138,
   "id": "653df25c",
   "metadata": {},
   "outputs": [
    {
     "data": {
      "image/png": "[encoded data removed]",
      "text/plain": [
       "<Figure size 800x600 with 2 Axes>"
      ]
     },
     "metadata": {},
     "output_type": "display_data"
    }
   ],
   "source": [
    "import seaborn as sns\n",
    "import matplotlib.pyplot as plt\n",
    "\n",
    "# Calculate the correlation matrix\n",
    "correlation_matrix = df.corr()\n",
    "\n",
    "# Create a heatmap\n",
    "plt.figure(figsize=(8, 6))\n",
    "sns.heatmap(correlation_matrix, annot=True, cmap='coolwarm', center=0)\n",
    "plt.title(\"Correlation Heatmap\")\n",
    "plt.show()"
   ]
  },
  {
   "cell_type": "markdown",
   "id": "5c3c16fd",
   "metadata": {},
   "source": [
    "Here we can see the correlation is less"
   ]
  },
  {
   "cell_type": "markdown",
   "id": "90a64ef8",
   "metadata": {},
   "source": [
    "**2.spearman**"
   ]
  },
  {
   "cell_type": "code",
   "execution_count": 139,
   "id": "6acb7403",
   "metadata": {},
   "outputs": [
    {
     "data": {
      "text/plain": [
       "Index(['model', 'year', 'transmission', 'fuelType', 'engineSize'], dtype='object')"
      ]
     },
     "execution_count": 139,
     "metadata": {},
     "output_type": "execute_result"
    }
   ],
   "source": [
    "categorical_columns = df.select_dtypes(include=['object','category']).columns\n",
    "categorical_columns"
   ]
  },
  {
   "cell_type": "code",
   "execution_count": 140,
   "id": "2838e89a",
   "metadata": {},
   "outputs": [],
   "source": [
    "from scipy.stats import spearmanr\n",
    "from sklearn.preprocessing import LabelEncoder\n",
    "label_encoder = LabelEncoder()"
   ]
  },
  {
   "cell_type": "code",
   "execution_count": 141,
   "id": "6190c20c",
   "metadata": {},
   "outputs": [
    {
     "name": "stdout",
     "output_type": "stream",
     "text": [
      "Spearman's rank correlation: 0.35203813871946904\n",
      "P-value: 0.0\n"
     ]
    }
   ],
   "source": [
    "#model\n",
    "df['Categorical_Encoded'] = label_encoder.fit_transform(df['model'])\n",
    "\n",
    "# Calculate Spearman's rank correlation\n",
    "correlation, p_value = spearmanr(df['price'], df['model'])\n",
    "\n",
    "print(\"Spearman's rank correlation:\", correlation)\n",
    "print(\"P-value:\", p_value)"
   ]
  },
  {
   "cell_type": "code",
   "execution_count": 142,
   "id": "0648b127",
   "metadata": {},
   "outputs": [
    {
     "name": "stdout",
     "output_type": "stream",
     "text": [
      "Spearman's rank correlation: 0.6920420668158702\n",
      "P-value: 0.0\n"
     ]
    }
   ],
   "source": [
    "#year\n",
    "df['Categorical_Encoded'] = label_encoder.fit_transform(df['year'])\n",
    "\n",
    "# Calculate Spearman's rank correlation\n",
    "correlation, p_value = spearmanr(df['price'], df['year'])\n",
    "\n",
    "print(\"Spearman's rank correlation:\", correlation)\n",
    "print(\"P-value:\", p_value)"
   ]
  },
  {
   "cell_type": "markdown",
   "id": "473c3af6",
   "metadata": {},
   "source": [
    "Positive correlation and since p value is 0  correlation is statistically significant, "
   ]
  },
  {
   "cell_type": "code",
   "execution_count": null,
   "id": "1d0ab502",
   "metadata": {},
   "outputs": [],
   "source": []
  },
  {
   "cell_type": "code",
   "execution_count": 143,
   "id": "35314704",
   "metadata": {},
   "outputs": [
    {
     "name": "stdout",
     "output_type": "stream",
     "text": [
      "Spearman's rank correlation: -0.06608492978797595\n",
      "P-value: 2.163882296802904e-18\n"
     ]
    }
   ],
   "source": [
    "df['Categorical_Encoded'] = label_encoder.fit_transform(df['transmission'])\n",
    "\n",
    "# Calculate Spearman's rank correlation\n",
    "correlation, p_value = spearmanr(df['price'], df['transmission'])\n",
    "\n",
    "print(\"Spearman's rank correlation:\", correlation)\n",
    "print(\"P-value:\", p_value)"
   ]
  },
  {
   "cell_type": "code",
   "execution_count": null,
   "id": "eb1a7d72",
   "metadata": {},
   "outputs": [],
   "source": []
  },
  {
   "cell_type": "code",
   "execution_count": 144,
   "id": "7d7c056e",
   "metadata": {},
   "outputs": [
    {
     "name": "stdout",
     "output_type": "stream",
     "text": [
      "Spearman's rank correlation: -0.23049478183923724\n",
      "P-value: 1.3208496220180982e-209\n"
     ]
    }
   ],
   "source": [
    "df['Categorical_Encoded'] = label_encoder.fit_transform(df['fuelType'])\n",
    "\n",
    "# Calculate Spearman's rank correlation\n",
    "correlation, p_value = spearmanr(df['price'], df['fuelType'])\n",
    "\n",
    "print(\"Spearman's rank correlation:\", correlation)\n",
    "print(\"P-value:\", p_value)"
   ]
  },
  {
   "cell_type": "markdown",
   "id": "3817536b",
   "metadata": {},
   "source": [
    "Negative correlation"
   ]
  },
  {
   "cell_type": "code",
   "execution_count": null,
   "id": "cc361af5",
   "metadata": {},
   "outputs": [],
   "source": []
  },
  {
   "cell_type": "code",
   "execution_count": 145,
   "id": "04a5e0b8",
   "metadata": {},
   "outputs": [
    {
     "name": "stdout",
     "output_type": "stream",
     "text": [
      "Spearman's rank correlation: 0.23119287766651353\n",
      "P-value: 6.711041900724041e-211\n"
     ]
    }
   ],
   "source": [
    "df['Categorical_Encoded'] = label_encoder.fit_transform(df['engineSize'])\n",
    "\n",
    "# Calculate Spearman's rank correlation\n",
    "correlation, p_value = spearmanr(df['price'], df['engineSize'])\n",
    "\n",
    "print(\"Spearman's rank correlation:\", correlation)\n",
    "print(\"P-value:\", p_value)"
   ]
  },
  {
   "cell_type": "markdown",
   "id": "81a8d90d",
   "metadata": {},
   "source": [
    "Statistically not much significant"
   ]
  },
  {
   "cell_type": "markdown",
   "id": "353c1ae1",
   "metadata": {},
   "source": [
    "# Bivariate Analysis"
   ]
  },
  {
   "cell_type": "markdown",
   "id": "c90852d1",
   "metadata": {},
   "source": [
    "**Price of car each year**"
   ]
  },
  {
   "cell_type": "code",
   "execution_count": 146,
   "id": "55052a4e",
   "metadata": {},
   "outputs": [
    {
     "data": {
      "image/png": "[encoded data removed]",
      "text/plain": [
       "<Figure size 640x480 with 1 Axes>"
      ]
     },
     "metadata": {},
     "output_type": "display_data"
    }
   ],
   "source": [
    "b=df.groupby('year')['price'].sum().reset_index()\n",
    "b1=b.sort_values(by='year')\n",
    "b1=b1.drop(22)\n",
    "\n",
    "x=b1['year']\n",
    "y=b1['price']\n",
    "plt.plot(x,y,\"*:r\")\n",
    "plt.xlabel(\"year\")\n",
    "plt.ylabel(\"Price\")\n",
    "plt.title(\"Price of cars in each year\")\n",
    "plt.show()"
   ]
  },
  {
   "cell_type": "markdown",
   "id": "d429a90b",
   "metadata": {},
   "source": [
    "**Transmission percentage in terms of Automatic, Semi Automatic and Manual**"
   ]
  },
  {
   "cell_type": "code",
   "execution_count": 147,
   "id": "25d86ab6",
   "metadata": {},
   "outputs": [
    {
     "data": {
      "image/png": "[encoded data removed]",
      "text/plain": [
       "<Figure size 640x480 with 1 Axes>"
      ]
     },
     "metadata": {},
     "output_type": "display_data"
    }
   ],
   "source": [
    "c=df.groupby('transmission')['price'].sum().reset_index()\n",
    "c1=c.sort_values(by='price')\n",
    "y=c1['price']\n",
    "labels=['Semi-Auto','Automatic','Manual']\n",
    "myexplode=[0,0,0.2]\n",
    "plt.pie(y,labels=labels,explode = myexplode,shadow=True,autopct='%1.1f%%')\n",
    "plt.show()"
   ]
  },
  {
   "cell_type": "markdown",
   "id": "e19aab5c",
   "metadata": {},
   "source": [
    "**The tax on each Fuel type is analysed**"
   ]
  },
  {
   "cell_type": "code",
   "execution_count": 148,
   "id": "7a69856b",
   "metadata": {},
   "outputs": [
    {
     "data": {
      "application/vnd.plotly.v1+json": {
       "config": {
        "plotlyServerURL": "https://plot.ly"
       },
       "data": [
        {
         "hovertemplate": "fuelType=%{x}<br>tax=%{y}<br>size=%{marker.size}<br>color=%{marker.color}<extra></extra>",
         "legendgroup": "",
         "marker": {
          "color": [
           1,
           2,
           3,
           4,
           5
          ],
          "coloraxis": "coloraxis",
          "size": [
           200,
           400,
           600,
           800,
           1000
          ],
          "sizemode": "area",
          "sizeref": 2.5,
          "symbol": "circle"
         },
         "mode": "markers",
         "name": "",
         "orientation": "v",
         "showlegend": false,
         "type": "scatter",
         "x": [
          "Electric",
          "Other",
          "Hybrid",
          "Diesel",
          "Petrol"
         ],
         "xaxis": "x",
         "y": [
          0,
          0,
          1530,
          562515,
          1411542
         ],
         "yaxis": "y"
        }
       ],
       "layout": {
        "coloraxis": {
         "colorbar": {
          "title": {
           "text": "color"
          }
         },
         "colorscale": [
          [
           0,
           "#0d0887"
          ],
          [
           0.1111111111111111,
           "#46039f"
          ],
          [
           0.2222222222222222,
           "#7201a8"
          ],
          [
           0.3333333333333333,
           "#9c179e"
          ],
          [
           0.4444444444444444,
           "#bd3786"
          ],
          [
           0.5555555555555556,
           "#d8576b"
          ],
          [
           0.6666666666666666,
           "#ed7953"
          ],
          [
           0.7777777777777778,
           "#fb9f3a"
          ],
          [
           0.8888888888888888,
           "#fdca26"
          ],
          [
           1,
           "#f0f921"
          ]
         ]
        },
        "legend": {
         "itemsizing": "constant",
         "tracegroupgap": 0
        },
        "margin": {
         "t": 60
        },
        "template": {
         "data": {
          "bar": [
           {
            "error_x": {
             "color": "#2a3f5f"
            },
            "error_y": {
             "color": "#2a3f5f"
            },
            "marker": {
             "line": {
              "color": "#E5ECF6",
              "width": 0.5
             },
             "pattern": {
              "fillmode": "overlay",
              "size": 10,
              "solidity": 0.2
             }
            },
            "type": "bar"
           }
          ],
          "barpolar": [
           {
            "marker": {
             "line": {
              "color": "#E5ECF6",
              "width": 0.5
             },
             "pattern": {
              "fillmode": "overlay",
              "size": 10,
              "solidity": 0.2
             }
            },
            "type": "barpolar"
           }
          ],
          "carpet": [
           {
            "aaxis": {
             "endlinecolor": "#2a3f5f",
             "gridcolor": "white",
             "linecolor": "white",
             "minorgridcolor": "white",
             "startlinecolor": "#2a3f5f"
            },
            "baxis": {
             "endlinecolor": "#2a3f5f",
             "gridcolor": "white",
             "linecolor": "white",
             "minorgridcolor": "white",
             "startlinecolor": "#2a3f5f"
            },
            "type": "carpet"
           }
          ],
          "choropleth": [
           {
            "colorbar": {
             "outlinewidth": 0,
             "ticks": ""
            },
            "type": "choropleth"
           }
          ],
          "contour": [
           {
            "colorbar": {
             "outlinewidth": 0,
             "ticks": ""
            },
            "colorscale": [
             [
              0,
              "#0d0887"
             ],
             [
              0.1111111111111111,
              "#46039f"
             ],
             [
              0.2222222222222222,
              "#7201a8"
             ],
             [
              0.3333333333333333,
              "#9c179e"
             ],
             [
              0.4444444444444444,
              "#bd3786"
             ],
             [
              0.5555555555555556,
              "#d8576b"
             ],
             [
              0.6666666666666666,
              "#ed7953"
             ],
             [
              0.7777777777777778,
              "#fb9f3a"
             ],
             [
              0.8888888888888888,
              "#fdca26"
             ],
             [
              1,
              "#f0f921"
             ]
            ],
            "type": "contour"
           }
          ],
          "contourcarpet": [
           {
            "colorbar": {
             "outlinewidth": 0,
             "ticks": ""
            },
            "type": "contourcarpet"
           }
          ],
          "heatmap": [
           {
            "colorbar": {
             "outlinewidth": 0,
             "ticks": ""
            },
            "colorscale": [
             [
              0,
              "#0d0887"
             ],
             [
              0.1111111111111111,
              "#46039f"
             ],
             [
              0.2222222222222222,
              "#7201a8"
             ],
             [
              0.3333333333333333,
              "#9c179e"
             ],
             [
              0.4444444444444444,
              "#bd3786"
             ],
             [
              0.5555555555555556,
              "#d8576b"
             ],
             [
              0.6666666666666666,
              "#ed7953"
             ],
             [
              0.7777777777777778,
              "#fb9f3a"
             ],
             [
              0.8888888888888888,
              "#fdca26"
             ],
             [
              1,
              "#f0f921"
             ]
            ],
            "type": "heatmap"
           }
          ],
          "heatmapgl": [
           {
            "colorbar": {
             "outlinewidth": 0,
             "ticks": ""
            },
            "colorscale": [
             [
              0,
              "#0d0887"
             ],
             [
              0.1111111111111111,
              "#46039f"
             ],
             [
              0.2222222222222222,
              "#7201a8"
             ],
             [
              0.3333333333333333,
              "#9c179e"
             ],
             [
              0.4444444444444444,
              "#bd3786"
             ],
             [
              0.5555555555555556,
              "#d8576b"
             ],
             [
              0.6666666666666666,
              "#ed7953"
             ],
             [
              0.7777777777777778,
              "#fb9f3a"
             ],
             [
              0.8888888888888888,
              "#fdca26"
             ],
             [
              1,
              "#f0f921"
             ]
            ],
            "type": "heatmapgl"
           }
          ],
          "histogram": [
           {
            "marker": {
             "pattern": {
              "fillmode": "overlay",
              "size": 10,
              "solidity": 0.2
             }
            },
            "type": "histogram"
           }
          ],
          "histogram2d": [
           {
            "colorbar": {
             "outlinewidth": 0,
             "ticks": ""
            },
            "colorscale": [
             [
              0,
              "#0d0887"
             ],
             [
              0.1111111111111111,
              "#46039f"
             ],
             [
              0.2222222222222222,
              "#7201a8"
             ],
             [
              0.3333333333333333,
              "#9c179e"
             ],
             [
              0.4444444444444444,
              "#bd3786"
             ],
             [
              0.5555555555555556,
              "#d8576b"
             ],
             [
              0.6666666666666666,
              "#ed7953"
             ],
             [
              0.7777777777777778,
              "#fb9f3a"
             ],
             [
              0.8888888888888888,
              "#fdca26"
             ],
             [
              1,
              "#f0f921"
             ]
            ],
            "type": "histogram2d"
           }
          ],
          "histogram2dcontour": [
           {
            "colorbar": {
             "outlinewidth": 0,
             "ticks": ""
            },
            "colorscale": [
             [
              0,
              "#0d0887"
             ],
             [
              0.1111111111111111,
              "#46039f"
             ],
             [
              0.2222222222222222,
              "#7201a8"
             ],
             [
              0.3333333333333333,
              "#9c179e"
             ],
             [
              0.4444444444444444,
              "#bd3786"
             ],
             [
              0.5555555555555556,
              "#d8576b"
             ],
             [
              0.6666666666666666,
              "#ed7953"
             ],
             [
              0.7777777777777778,
              "#fb9f3a"
             ],
             [
              0.8888888888888888,
              "#fdca26"
             ],
             [
              1,
              "#f0f921"
             ]
            ],
            "type": "histogram2dcontour"
           }
          ],
          "mesh3d": [
           {
            "colorbar": {
             "outlinewidth": 0,
             "ticks": ""
            },
            "type": "mesh3d"
           }
          ],
          "parcoords": [
           {
            "line": {
             "colorbar": {
              "outlinewidth": 0,
              "ticks": ""
             }
            },
            "type": "parcoords"
           }
          ],
          "pie": [
           {
            "automargin": true,
            "type": "pie"
           }
          ],
          "scatter": [
           {
            "fillpattern": {
             "fillmode": "overlay",
             "size": 10,
             "solidity": 0.2
            },
            "type": "scatter"
           }
          ],
          "scatter3d": [
           {
            "line": {
             "colorbar": {
              "outlinewidth": 0,
              "ticks": ""
             }
            },
            "marker": {
             "colorbar": {
              "outlinewidth": 0,
              "ticks": ""
             }
            },
            "type": "scatter3d"
           }
          ],
          "scattercarpet": [
           {
            "marker": {
             "colorbar": {
              "outlinewidth": 0,
              "ticks": ""
             }
            },
            "type": "scattercarpet"
           }
          ],
          "scattergeo": [
           {
            "marker": {
             "colorbar": {
              "outlinewidth": 0,
              "ticks": ""
             }
            },
            "type": "scattergeo"
           }
          ],
          "scattergl": [
           {
            "marker": {
             "colorbar": {
              "outlinewidth": 0,
              "ticks": ""
             }
            },
            "type": "scattergl"
           }
          ],
          "scattermapbox": [
           {
            "marker": {
             "colorbar": {
              "outlinewidth": 0,
              "ticks": ""
             }
            },
            "type": "scattermapbox"
           }
          ],
          "scatterpolar": [
           {
            "marker": {
             "colorbar": {
              "outlinewidth": 0,
              "ticks": ""
             }
            },
            "type": "scatterpolar"
           }
          ],
          "scatterpolargl": [
           {
            "marker": {
             "colorbar": {
              "outlinewidth": 0,
              "ticks": ""
             }
            },
            "type": "scatterpolargl"
           }
          ],
          "scatterternary": [
           {
            "marker": {
             "colorbar": {
              "outlinewidth": 0,
              "ticks": ""
             }
            },
            "type": "scatterternary"
           }
          ],
          "surface": [
           {
            "colorbar": {
             "outlinewidth": 0,
             "ticks": ""
            },
            "colorscale": [
             [
              0,
              "#0d0887"
             ],
             [
              0.1111111111111111,
              "#46039f"
             ],
             [
              0.2222222222222222,
              "#7201a8"
             ],
             [
              0.3333333333333333,
              "#9c179e"
             ],
             [
              0.4444444444444444,
              "#bd3786"
             ],
             [
              0.5555555555555556,
              "#d8576b"
             ],
             [
              0.6666666666666666,
              "#ed7953"
             ],
             [
              0.7777777777777778,
              "#fb9f3a"
             ],
             [
              0.8888888888888888,
              "#fdca26"
             ],
             [
              1,
              "#f0f921"
             ]
            ],
            "type": "surface"
           }
          ],
          "table": [
           {
            "cells": {
             "fill": {
              "color": "#EBF0F8"
             },
             "line": {
              "color": "white"
             }
            },
            "header": {
             "fill": {
              "color": "#C8D4E3"
             },
             "line": {
              "color": "white"
             }
            },
            "type": "table"
           }
          ]
         },
         "layout": {
          "annotationdefaults": {
           "arrowcolor": "#2a3f5f",
           "arrowhead": 0,
           "arrowwidth": 1
          },
          "autotypenumbers": "strict",
          "coloraxis": {
           "colorbar": {
            "outlinewidth": 0,
            "ticks": ""
           }
          },
          "colorscale": {
           "diverging": [
            [
             0,
             "#8e0152"
            ],
            [
             0.1,
             "#c51b7d"
            ],
            [
             0.2,
             "#de77ae"
            ],
            [
             0.3,
             "#f1b6da"
            ],
            [
             0.4,
             "#fde0ef"
            ],
            [
             0.5,
             "#f7f7f7"
            ],
            [
             0.6,
             "#e6f5d0"
            ],
            [
             0.7,
             "#b8e186"
            ],
            [
             0.8,
             "#7fbc41"
            ],
            [
             0.9,
             "#4d9221"
            ],
            [
             1,
             "#276419"
            ]
           ],
           "sequential": [
            [
             0,
             "#0d0887"
            ],
            [
             0.1111111111111111,
             "#46039f"
            ],
            [
             0.2222222222222222,
             "#7201a8"
            ],
            [
             0.3333333333333333,
             "#9c179e"
            ],
            [
             0.4444444444444444,
             "#bd3786"
            ],
            [
             0.5555555555555556,
             "#d8576b"
            ],
            [
             0.6666666666666666,
             "#ed7953"
            ],
            [
             0.7777777777777778,
             "#fb9f3a"
            ],
            [
             0.8888888888888888,
             "#fdca26"
            ],
            [
             1,
             "#f0f921"
            ]
           ],
           "sequentialminus": [
            [
             0,
             "#0d0887"
            ],
            [
             0.1111111111111111,
             "#46039f"
            ],
            [
             0.2222222222222222,
             "#7201a8"
            ],
            [
             0.3333333333333333,
             "#9c179e"
            ],
            [
             0.4444444444444444,
             "#bd3786"
            ],
            [
             0.5555555555555556,
             "#d8576b"
            ],
            [
             0.6666666666666666,
             "#ed7953"
            ],
            [
             0.7777777777777778,
             "#fb9f3a"
            ],
            [
             0.8888888888888888,
             "#fdca26"
            ],
            [
             1,
             "#f0f921"
            ]
           ]
          },
          "colorway": [
           "#636efa",
           "#EF553B",
           "#00cc96",
           "#ab63fa",
           "#FFA15A",
           "#19d3f3",
           "#FF6692",
           "#B6E880",
           "#FF97FF",
           "#FECB52"
          ],
          "font": {
           "color": "#2a3f5f"
          },
          "geo": {
           "bgcolor": "white",
           "lakecolor": "white",
           "landcolor": "#E5ECF6",
           "showlakes": true,
           "showland": true,
           "subunitcolor": "white"
          },
          "hoverlabel": {
           "align": "left"
          },
          "hovermode": "closest",
          "mapbox": {
           "style": "light"
          },
          "paper_bgcolor": "white",
          "plot_bgcolor": "#E5ECF6",
          "polar": {
           "angularaxis": {
            "gridcolor": "white",
            "linecolor": "white",
            "ticks": ""
           },
           "bgcolor": "#E5ECF6",
           "radialaxis": {
            "gridcolor": "white",
            "linecolor": "white",
            "ticks": ""
           }
          },
          "scene": {
           "xaxis": {
            "backgroundcolor": "#E5ECF6",
            "gridcolor": "white",
            "gridwidth": 2,
            "linecolor": "white",
            "showbackground": true,
            "ticks": "",
            "zerolinecolor": "white"
           },
           "yaxis": {
            "backgroundcolor": "#E5ECF6",
            "gridcolor": "white",
            "gridwidth": 2,
            "linecolor": "white",
            "showbackground": true,
            "ticks": "",
            "zerolinecolor": "white"
           },
           "zaxis": {
            "backgroundcolor": "#E5ECF6",
            "gridcolor": "white",
            "gridwidth": 2,
            "linecolor": "white",
            "showbackground": true,
            "ticks": "",
            "zerolinecolor": "white"
           }
          },
          "shapedefaults": {
           "line": {
            "color": "#2a3f5f"
           }
          },
          "ternary": {
           "aaxis": {
            "gridcolor": "white",
            "linecolor": "white",
            "ticks": ""
           },
           "baxis": {
            "gridcolor": "white",
            "linecolor": "white",
            "ticks": ""
           },
           "bgcolor": "#E5ECF6",
           "caxis": {
            "gridcolor": "white",
            "linecolor": "white",
            "ticks": ""
           }
          },
          "title": {
           "x": 0.05
          },
          "xaxis": {
           "automargin": true,
           "gridcolor": "white",
           "linecolor": "white",
           "ticks": "",
           "title": {
            "standoff": 15
           },
           "zerolinecolor": "white",
           "zerolinewidth": 2
          },
          "yaxis": {
           "automargin": true,
           "gridcolor": "white",
           "linecolor": "white",
           "ticks": "",
           "title": {
            "standoff": 15
           },
           "zerolinecolor": "white",
           "zerolinewidth": 2
          }
         }
        },
        "xaxis": {
         "anchor": "y",
         "domain": [
          0,
          1
         ],
         "title": {
          "text": "fuelType"
         }
        },
        "yaxis": {
         "anchor": "x",
         "domain": [
          0,
          1
         ],
         "title": {
          "text": "tax"
         }
        }
       }
      },
      "text/html": [
       "<div>                            <div id=\"be053ae4-eade-4894-b6ee-ada1894657fa\" class=\"plotly-graph-div\" style=\"height:525px; width:100%;\"></div>            <script type=\"text/javascript\">                require([\"plotly\"], function(Plotly) {                    window.PLOTLYENV=window.PLOTLYENV || {};                                    if (document.getElementById(\"be053ae4-eade-4894-b6ee-ada1894657fa\")) {                    Plotly.newPlot(                        \"be053ae4-eade-4894-b6ee-ada1894657fa\",                        [{\"hovertemplate\":\"fuelType=%{x}<br>tax=%{y}<br>size=%{marker.size}<br>color=%{marker.color}<extra></extra>\",\"legendgroup\":\"\",\"marker\":{\"color\":[1,2,3,4,5],\"coloraxis\":\"coloraxis\",\"size\":[200,400,600,800,1000],\"sizemode\":\"area\",\"sizeref\":2.5,\"symbol\":\"circle\"},\"mode\":\"markers\",\"name\":\"\",\"orientation\":\"v\",\"showlegend\":false,\"x\":[\"Electric\",\"Other\",\"Hybrid\",\"Diesel\",\"Petrol\"],\"xaxis\":\"x\",\"y\":[0,0,1530,562515,1411542],\"yaxis\":\"y\",\"type\":\"scatter\"}],                        {\"template\":{\"data\":{\"histogram2dcontour\":[{\"type\":\"histogram2dcontour\",\"colorbar\":{\"outlinewidth\":0,\"ticks\":\"\"},\"colorscale\":[[0.0,\"#0d0887\"],[0.1111111111111111,\"#46039f\"],[0.2222222222222222,\"#7201a8\"],[0.3333333333333333,\"#9c179e\"],[0.4444444444444444,\"#bd3786\"],[0.5555555555555556,\"#d8576b\"],[0.6666666666666666,\"#ed7953\"],[0.7777777777777778,\"#fb9f3a\"],[0.8888888888888888,\"#fdca26\"],[1.0,\"#f0f921\"]]}],\"choropleth\":[{\"type\":\"choropleth\",\"colorbar\":{\"outlinewidth\":0,\"ticks\":\"\"}}],\"histogram2d\":[{\"type\":\"histogram2d\",\"colorbar\":{\"outlinewidth\":0,\"ticks\":\"\"},\"colorscale\":[[0.0,\"#0d0887\"],[0.1111111111111111,\"#46039f\"],[0.2222222222222222,\"#7201a8\"],[0.3333333333333333,\"#9c179e\"],[0.4444444444444444,\"#bd3786\"],[0.5555555555555556,\"#d8576b\"],[0.6666666666666666,\"#ed7953\"],[0.7777777777777778,\"#fb9f3a\"],[0.8888888888888888,\"#fdca26\"],[1.0,\"#f0f921\"]]}],\"heatmap\":[{\"type\":\"heatmap\",\"colorbar\":{\"outlinewidth\":0,\"ticks\":\"\"},\"colorscale\":[[0.0,\"#0d0887\"],[0.1111111111111111,\"#46039f\"],[0.2222222222222222,\"#7201a8\"],[0.3333333333333333,\"#9c179e\"],[0.4444444444444444,\"#bd3786\"],[0.5555555555555556,\"#d8576b\"],[0.6666666666666666,\"#ed7953\"],[0.7777777777777778,\"#fb9f3a\"],[0.8888888888888888,\"#fdca26\"],[1.0,\"#f0f921\"]]}],\"heatmapgl\":[{\"type\":\"heatmapgl\",\"colorbar\":{\"outlinewidth\":0,\"ticks\":\"\"},\"colorscale\":[[0.0,\"#0d0887\"],[0.1111111111111111,\"#46039f\"],[0.2222222222222222,\"#7201a8\"],[0.3333333333333333,\"#9c179e\"],[0.4444444444444444,\"#bd3786\"],[0.5555555555555556,\"#d8576b\"],[0.6666666666666666,\"#ed7953\"],[0.7777777777777778,\"#fb9f3a\"],[0.8888888888888888,\"#fdca26\"],[1.0,\"#f0f921\"]]}],\"contourcarpet\":[{\"type\":\"contourcarpet\",\"colorbar\":{\"outlinewidth\":0,\"ticks\":\"\"}}],\"contour\":[{\"type\":\"contour\",\"colorbar\":{\"outlinewidth\":0,\"ticks\":\"\"},\"colorscale\":[[0.0,\"#0d0887\"],[0.1111111111111111,\"#46039f\"],[0.2222222222222222,\"#7201a8\"],[0.3333333333333333,\"#9c179e\"],[0.4444444444444444,\"#bd3786\"],[0.5555555555555556,\"#d8576b\"],[0.6666666666666666,\"#ed7953\"],[0.7777777777777778,\"#fb9f3a\"],[0.8888888888888888,\"#fdca26\"],[1.0,\"#f0f921\"]]}],\"surface\":[{\"type\":\"surface\",\"colorbar\":{\"outlinewidth\":0,\"ticks\":\"\"},\"colorscale\":[[0.0,\"#0d0887\"],[0.1111111111111111,\"#46039f\"],[0.2222222222222222,\"#7201a8\"],[0.3333333333333333,\"#9c179e\"],[0.4444444444444444,\"#bd3786\"],[0.5555555555555556,\"#d8576b\"],[0.6666666666666666,\"#ed7953\"],[0.7777777777777778,\"#fb9f3a\"],[0.8888888888888888,\"#fdca26\"],[1.0,\"#f0f921\"]]}],\"mesh3d\":[{\"type\":\"mesh3d\",\"colorbar\":{\"outlinewidth\":0,\"ticks\":\"\"}}],\"scatter\":[{\"fillpattern\":{\"fillmode\":\"overlay\",\"size\":10,\"solidity\":0.2},\"type\":\"scatter\"}],\"parcoords\":[{\"type\":\"parcoords\",\"line\":{\"colorbar\":{\"outlinewidth\":0,\"ticks\":\"\"}}}],\"scatterpolargl\":[{\"type\":\"scatterpolargl\",\"marker\":{\"colorbar\":{\"outlinewidth\":0,\"ticks\":\"\"}}}],\"bar\":[{\"error_x\":{\"color\":\"#2a3f5f\"},\"error_y\":{\"color\":\"#2a3f5f\"},\"marker\":{\"line\":{\"color\":\"#E5ECF6\",\"width\":0.5},\"pattern\":{\"fillmode\":\"overlay\",\"size\":10,\"solidity\":0.2}},\"type\":\"bar\"}],\"scattergeo\":[{\"type\":\"scattergeo\",\"marker\":{\"colorbar\":{\"outlinewidth\":0,\"ticks\":\"\"}}}],\"scatterpolar\":[{\"type\":\"scatterpolar\",\"marker\":{\"colorbar\":{\"outlinewidth\":0,\"ticks\":\"\"}}}],\"histogram\":[{\"marker\":{\"pattern\":{\"fillmode\":\"overlay\",\"size\":10,\"solidity\":0.2}},\"type\":\"histogram\"}],\"scattergl\":[{\"type\":\"scattergl\",\"marker\":{\"colorbar\":{\"outlinewidth\":0,\"ticks\":\"\"}}}],\"scatter3d\":[{\"type\":\"scatter3d\",\"line\":{\"colorbar\":{\"outlinewidth\":0,\"ticks\":\"\"}},\"marker\":{\"colorbar\":{\"outlinewidth\":0,\"ticks\":\"\"}}}],\"scattermapbox\":[{\"type\":\"scattermapbox\",\"marker\":{\"colorbar\":{\"outlinewidth\":0,\"ticks\":\"\"}}}],\"scatterternary\":[{\"type\":\"scatterternary\",\"marker\":{\"colorbar\":{\"outlinewidth\":0,\"ticks\":\"\"}}}],\"scattercarpet\":[{\"type\":\"scattercarpet\",\"marker\":{\"colorbar\":{\"outlinewidth\":0,\"ticks\":\"\"}}}],\"carpet\":[{\"aaxis\":{\"endlinecolor\":\"#2a3f5f\",\"gridcolor\":\"white\",\"linecolor\":\"white\",\"minorgridcolor\":\"white\",\"startlinecolor\":\"#2a3f5f\"},\"baxis\":{\"endlinecolor\":\"#2a3f5f\",\"gridcolor\":\"white\",\"linecolor\":\"white\",\"minorgridcolor\":\"white\",\"startlinecolor\":\"#2a3f5f\"},\"type\":\"carpet\"}],\"table\":[{\"cells\":{\"fill\":{\"color\":\"#EBF0F8\"},\"line\":{\"color\":\"white\"}},\"header\":{\"fill\":{\"color\":\"#C8D4E3\"},\"line\":{\"color\":\"white\"}},\"type\":\"table\"}],\"barpolar\":[{\"marker\":{\"line\":{\"color\":\"#E5ECF6\",\"width\":0.5},\"pattern\":{\"fillmode\":\"overlay\",\"size\":10,\"solidity\":0.2}},\"type\":\"barpolar\"}],\"pie\":[{\"automargin\":true,\"type\":\"pie\"}]},\"layout\":{\"autotypenumbers\":\"strict\",\"colorway\":[\"#636efa\",\"#EF553B\",\"#00cc96\",\"#ab63fa\",\"#FFA15A\",\"#19d3f3\",\"#FF6692\",\"#B6E880\",\"#FF97FF\",\"#FECB52\"],\"font\":{\"color\":\"#2a3f5f\"},\"hovermode\":\"closest\",\"hoverlabel\":{\"align\":\"left\"},\"paper_bgcolor\":\"white\",\"plot_bgcolor\":\"#E5ECF6\",\"polar\":{\"bgcolor\":\"#E5ECF6\",\"angularaxis\":{\"gridcolor\":\"white\",\"linecolor\":\"white\",\"ticks\":\"\"},\"radialaxis\":{\"gridcolor\":\"white\",\"linecolor\":\"white\",\"ticks\":\"\"}},\"ternary\":{\"bgcolor\":\"#E5ECF6\",\"aaxis\":{\"gridcolor\":\"white\",\"linecolor\":\"white\",\"ticks\":\"\"},\"baxis\":{\"gridcolor\":\"white\",\"linecolor\":\"white\",\"ticks\":\"\"},\"caxis\":{\"gridcolor\":\"white\",\"linecolor\":\"white\",\"ticks\":\"\"}},\"coloraxis\":{\"colorbar\":{\"outlinewidth\":0,\"ticks\":\"\"}},\"colorscale\":{\"sequential\":[[0.0,\"#0d0887\"],[0.1111111111111111,\"#46039f\"],[0.2222222222222222,\"#7201a8\"],[0.3333333333333333,\"#9c179e\"],[0.4444444444444444,\"#bd3786\"],[0.5555555555555556,\"#d8576b\"],[0.6666666666666666,\"#ed7953\"],[0.7777777777777778,\"#fb9f3a\"],[0.8888888888888888,\"#fdca26\"],[1.0,\"#f0f921\"]],\"sequentialminus\":[[0.0,\"#0d0887\"],[0.1111111111111111,\"#46039f\"],[0.2222222222222222,\"#7201a8\"],[0.3333333333333333,\"#9c179e\"],[0.4444444444444444,\"#bd3786\"],[0.5555555555555556,\"#d8576b\"],[0.6666666666666666,\"#ed7953\"],[0.7777777777777778,\"#fb9f3a\"],[0.8888888888888888,\"#fdca26\"],[1.0,\"#f0f921\"]],\"diverging\":[[0,\"#8e0152\"],[0.1,\"#c51b7d\"],[0.2,\"#de77ae\"],[0.3,\"#f1b6da\"],[0.4,\"#fde0ef\"],[0.5,\"#f7f7f7\"],[0.6,\"#e6f5d0\"],[0.7,\"#b8e186\"],[0.8,\"#7fbc41\"],[0.9,\"#4d9221\"],[1,\"#276419\"]]},\"xaxis\":{\"gridcolor\":\"white\",\"linecolor\":\"white\",\"ticks\":\"\",\"title\":{\"standoff\":15},\"zerolinecolor\":\"white\",\"automargin\":true,\"zerolinewidth\":2},\"yaxis\":{\"gridcolor\":\"white\",\"linecolor\":\"white\",\"ticks\":\"\",\"title\":{\"standoff\":15},\"zerolinecolor\":\"white\",\"automargin\":true,\"zerolinewidth\":2},\"scene\":{\"xaxis\":{\"backgroundcolor\":\"#E5ECF6\",\"gridcolor\":\"white\",\"linecolor\":\"white\",\"showbackground\":true,\"ticks\":\"\",\"zerolinecolor\":\"white\",\"gridwidth\":2},\"yaxis\":{\"backgroundcolor\":\"#E5ECF6\",\"gridcolor\":\"white\",\"linecolor\":\"white\",\"showbackground\":true,\"ticks\":\"\",\"zerolinecolor\":\"white\",\"gridwidth\":2},\"zaxis\":{\"backgroundcolor\":\"#E5ECF6\",\"gridcolor\":\"white\",\"linecolor\":\"white\",\"showbackground\":true,\"ticks\":\"\",\"zerolinecolor\":\"white\",\"gridwidth\":2}},\"shapedefaults\":{\"line\":{\"color\":\"#2a3f5f\"}},\"annotationdefaults\":{\"arrowcolor\":\"#2a3f5f\",\"arrowhead\":0,\"arrowwidth\":1},\"geo\":{\"bgcolor\":\"white\",\"landcolor\":\"#E5ECF6\",\"subunitcolor\":\"white\",\"showland\":true,\"showlakes\":true,\"lakecolor\":\"white\"},\"title\":{\"x\":0.05},\"mapbox\":{\"style\":\"light\"}}},\"xaxis\":{\"anchor\":\"y\",\"domain\":[0.0,1.0],\"title\":{\"text\":\"fuelType\"}},\"yaxis\":{\"anchor\":\"x\",\"domain\":[0.0,1.0],\"title\":{\"text\":\"tax\"}},\"coloraxis\":{\"colorbar\":{\"title\":{\"text\":\"color\"}},\"colorscale\":[[0.0,\"#0d0887\"],[0.1111111111111111,\"#46039f\"],[0.2222222222222222,\"#7201a8\"],[0.3333333333333333,\"#9c179e\"],[0.4444444444444444,\"#bd3786\"],[0.5555555555555556,\"#d8576b\"],[0.6666666666666666,\"#ed7953\"],[0.7777777777777778,\"#fb9f3a\"],[0.8888888888888888,\"#fdca26\"],[1.0,\"#f0f921\"]]},\"legend\":{\"tracegroupgap\":0,\"itemsizing\":\"constant\"},\"margin\":{\"t\":60}},                        {\"responsive\": true}                    ).then(function(){\n",
       "                            \n",
       "var gd = document.getElementById('be053ae4-eade-4894-b6ee-ada1894657fa');\n",
       "var x = new MutationObserver(function (mutations, observer) {{\n",
       "        var display = window.getComputedStyle(gd).display;\n",
       "        if (!display || display === 'none') {{\n",
       "            console.log([gd, 'removed!']);\n",
       "            Plotly.purge(gd);\n",
       "            observer.disconnect();\n",
       "        }}\n",
       "}});\n",
       "\n",
       "// Listen for the removal of the full notebook cells\n",
       "var notebookContainer = gd.closest('#notebook-container');\n",
       "if (notebookContainer) {{\n",
       "    x.observe(notebookContainer, {childList: true});\n",
       "}}\n",
       "\n",
       "// Listen for the clearing of the current output cell\n",
       "var outputEl = gd.closest('.output');\n",
       "if (outputEl) {{\n",
       "    x.observe(outputEl, {childList: true});\n",
       "}}\n",
       "\n",
       "                        })                };                });            </script>        </div>"
      ]
     },
     "metadata": {},
     "output_type": "display_data"
    }
   ],
   "source": [
    "import plotly.express as px\n",
    "\n",
    "d=df.groupby('fuelType')['tax'].sum().reset_index()\n",
    "d1=d.sort_values(by='tax')\n",
    "size=[200, 400, 600, 800, 1000]\n",
    "color=[1, 2, 3, 4, 5]\n",
    "px.scatter(d1, x='fuelType', y='tax',size=size, color=color)"
   ]
  },
  {
   "cell_type": "code",
   "execution_count": null,
   "id": "d328dcb7",
   "metadata": {},
   "outputs": [],
   "source": []
  },
  {
   "cell_type": "code",
   "execution_count": 149,
   "id": "c4599453",
   "metadata": {},
   "outputs": [
    {
     "data": {
      "image/png": "[encoded data removed]",
      "text/plain": [
       "<Figure size 1600x600 with 1 Axes>"
      ]
     },
     "metadata": {},
     "output_type": "display_data"
    }
   ],
   "source": [
    "plt.figure(figsize=(16,6))\n",
    "plt.scatter(df[\"model\"].iloc[0:100],df[\"engineSize\"].iloc[0:100])\n",
    "plt.xlabel(\"Model\")\n",
    "plt.ylabel(\"Enginesize\")\n",
    "plt.xticks(rotation=90)\n",
    "plt.show()"
   ]
  },
  {
   "cell_type": "code",
   "execution_count": null,
   "id": "39c9e350",
   "metadata": {},
   "outputs": [],
   "source": []
  },
  {
   "cell_type": "code",
   "execution_count": 150,
   "id": "29ce2c9c",
   "metadata": {},
   "outputs": [
    {
     "data": {
      "image/png": "[encoded data removed]",
      "text/plain": [
       "<Figure size 1600x600 with 1 Axes>"
      ]
     },
     "metadata": {},
     "output_type": "display_data"
    }
   ],
   "source": [
    "plt.figure(figsize=(16,6))\n",
    "plt.scatter(df[\"model\"].iloc[0:100],df[\"year\"].iloc[0:100])\n",
    "plt.xlabel(\"Model\")\n",
    "plt.ylabel(\"Year\")\n",
    "plt.xticks(rotation=90)\n",
    "plt.show()"
   ]
  },
  {
   "cell_type": "code",
   "execution_count": null,
   "id": "c4f143f8",
   "metadata": {},
   "outputs": [],
   "source": []
  },
  {
   "cell_type": "code",
   "execution_count": 151,
   "id": "b8c1e38e",
   "metadata": {},
   "outputs": [
    {
     "data": {
      "image/png": "[encoded data removed]",
      "text/plain": [
       "<Figure size 1600x600 with 1 Axes>"
      ]
     },
     "metadata": {},
     "output_type": "display_data"
    }
   ],
   "source": [
    "plt.figure(figsize=(16,6))\n",
    "plt.scatter(df[\"model\"].iloc[0:100],df[\"mpg\"].iloc[0:100])\n",
    "plt.xlabel(\"Model\")\n",
    "plt.ylabel(\"Mpg\")\n",
    "plt.xticks(rotation=90)\n",
    "plt.show()"
   ]
  },
  {
   "cell_type": "code",
   "execution_count": null,
   "id": "affd77e9",
   "metadata": {},
   "outputs": [],
   "source": []
  },
  {
   "cell_type": "code",
   "execution_count": null,
   "id": "58bff9ab",
   "metadata": {},
   "outputs": [],
   "source": []
  },
  {
   "cell_type": "markdown",
   "id": "80dff660",
   "metadata": {},
   "source": [
    "-----------------------------------------------------------------------------------------------"
   ]
  },
  {
   "cell_type": "code",
   "execution_count": 152,
   "id": "36116ec2",
   "metadata": {},
   "outputs": [],
   "source": [
    "df_new_for_exp=df"
   ]
  },
  {
   "cell_type": "markdown",
   "id": "2984e913",
   "metadata": {},
   "source": [
    "# Feature Engineering"
   ]
  },
  {
   "cell_type": "markdown",
   "id": "3ee8f20f",
   "metadata": {},
   "source": [
    "One hot encoding"
   ]
  },
  {
   "cell_type": "code",
   "execution_count": 153,
   "id": "cae16397",
   "metadata": {},
   "outputs": [],
   "source": [
    "categorical_columns = df.select_dtypes(include=['object']).columns"
   ]
  },
  {
   "cell_type": "code",
   "execution_count": null,
   "id": "b47a16a1",
   "metadata": {},
   "outputs": [],
   "source": []
  },
  {
   "cell_type": "code",
   "execution_count": 154,
   "id": "b5fa6c31",
   "metadata": {},
   "outputs": [],
   "source": [
    "df_encoded=pd.get_dummies(df,columns=[\"model\",\"transmission\",\"fuelType\"],drop_first=True)"
   ]
  },
  {
   "cell_type": "code",
   "execution_count": 155,
   "id": "ebd8ff1c",
   "metadata": {},
   "outputs": [
    {
     "data": {
      "text/html": [
       "<div>\n",
       "<style scoped>\n",
       "    .dataframe tbody tr th:only-of-type {\n",
       "        vertical-align: middle;\n",
       "    }\n",
       "\n",
       "    .dataframe tbody tr th {\n",
       "        vertical-align: top;\n",
       "    }\n",
       "\n",
       "    .dataframe thead th {\n",
       "        text-align: right;\n",
       "    }\n",
       "</style>\n",
       "<table border=\"1\" class=\"dataframe\">\n",
       "  <thead>\n",
       "    <tr style=\"text-align: right;\">\n",
       "      <th></th>\n",
       "      <th>year</th>\n",
       "      <th>price</th>\n",
       "      <th>mileage</th>\n",
       "      <th>tax</th>\n",
       "      <th>mpg</th>\n",
       "      <th>engineSize</th>\n",
       "      <th>Categorical_Encoded</th>\n",
       "      <th>model_ C-MAX</th>\n",
       "      <th>model_ EcoSport</th>\n",
       "      <th>model_ Edge</th>\n",
       "      <th>...</th>\n",
       "      <th>model_ Tourneo Connect</th>\n",
       "      <th>model_ Tourneo Custom</th>\n",
       "      <th>model_ Transit Tourneo</th>\n",
       "      <th>model_Focus</th>\n",
       "      <th>transmission_Manual</th>\n",
       "      <th>transmission_Semi-Auto</th>\n",
       "      <th>fuelType_Electric</th>\n",
       "      <th>fuelType_Hybrid</th>\n",
       "      <th>fuelType_Other</th>\n",
       "      <th>fuelType_Petrol</th>\n",
       "    </tr>\n",
       "  </thead>\n",
       "  <tbody>\n",
       "    <tr>\n",
       "      <th>0</th>\n",
       "      <td>2017</td>\n",
       "      <td>12000</td>\n",
       "      <td>15944.0</td>\n",
       "      <td>150</td>\n",
       "      <td>57.7</td>\n",
       "      <td>1.0</td>\n",
       "      <td>1</td>\n",
       "      <td>0</td>\n",
       "      <td>0</td>\n",
       "      <td>0</td>\n",
       "      <td>...</td>\n",
       "      <td>0</td>\n",
       "      <td>0</td>\n",
       "      <td>0</td>\n",
       "      <td>0</td>\n",
       "      <td>0</td>\n",
       "      <td>0</td>\n",
       "      <td>0</td>\n",
       "      <td>0</td>\n",
       "      <td>0</td>\n",
       "      <td>1</td>\n",
       "    </tr>\n",
       "    <tr>\n",
       "      <th>1</th>\n",
       "      <td>2018</td>\n",
       "      <td>14000</td>\n",
       "      <td>9083.0</td>\n",
       "      <td>150</td>\n",
       "      <td>57.7</td>\n",
       "      <td>1.0</td>\n",
       "      <td>1</td>\n",
       "      <td>0</td>\n",
       "      <td>0</td>\n",
       "      <td>0</td>\n",
       "      <td>...</td>\n",
       "      <td>0</td>\n",
       "      <td>0</td>\n",
       "      <td>0</td>\n",
       "      <td>0</td>\n",
       "      <td>1</td>\n",
       "      <td>0</td>\n",
       "      <td>0</td>\n",
       "      <td>0</td>\n",
       "      <td>0</td>\n",
       "      <td>1</td>\n",
       "    </tr>\n",
       "    <tr>\n",
       "      <th>2</th>\n",
       "      <td>2017</td>\n",
       "      <td>13000</td>\n",
       "      <td>12456.0</td>\n",
       "      <td>150</td>\n",
       "      <td>57.7</td>\n",
       "      <td>1.0</td>\n",
       "      <td>1</td>\n",
       "      <td>0</td>\n",
       "      <td>0</td>\n",
       "      <td>0</td>\n",
       "      <td>...</td>\n",
       "      <td>0</td>\n",
       "      <td>0</td>\n",
       "      <td>0</td>\n",
       "      <td>0</td>\n",
       "      <td>1</td>\n",
       "      <td>0</td>\n",
       "      <td>0</td>\n",
       "      <td>0</td>\n",
       "      <td>0</td>\n",
       "      <td>1</td>\n",
       "    </tr>\n",
       "    <tr>\n",
       "      <th>3</th>\n",
       "      <td>2019</td>\n",
       "      <td>17500</td>\n",
       "      <td>10460.0</td>\n",
       "      <td>145</td>\n",
       "      <td>40.3</td>\n",
       "      <td>1.5</td>\n",
       "      <td>6</td>\n",
       "      <td>0</td>\n",
       "      <td>0</td>\n",
       "      <td>0</td>\n",
       "      <td>...</td>\n",
       "      <td>0</td>\n",
       "      <td>0</td>\n",
       "      <td>0</td>\n",
       "      <td>0</td>\n",
       "      <td>1</td>\n",
       "      <td>0</td>\n",
       "      <td>0</td>\n",
       "      <td>0</td>\n",
       "      <td>0</td>\n",
       "      <td>1</td>\n",
       "    </tr>\n",
       "    <tr>\n",
       "      <th>4</th>\n",
       "      <td>2019</td>\n",
       "      <td>16500</td>\n",
       "      <td>1482.0</td>\n",
       "      <td>145</td>\n",
       "      <td>48.7</td>\n",
       "      <td>1.0</td>\n",
       "      <td>1</td>\n",
       "      <td>0</td>\n",
       "      <td>0</td>\n",
       "      <td>0</td>\n",
       "      <td>...</td>\n",
       "      <td>0</td>\n",
       "      <td>0</td>\n",
       "      <td>0</td>\n",
       "      <td>0</td>\n",
       "      <td>0</td>\n",
       "      <td>0</td>\n",
       "      <td>0</td>\n",
       "      <td>0</td>\n",
       "      <td>0</td>\n",
       "      <td>1</td>\n",
       "    </tr>\n",
       "    <tr>\n",
       "      <th>...</th>\n",
       "      <td>...</td>\n",
       "      <td>...</td>\n",
       "      <td>...</td>\n",
       "      <td>...</td>\n",
       "      <td>...</td>\n",
       "      <td>...</td>\n",
       "      <td>...</td>\n",
       "      <td>...</td>\n",
       "      <td>...</td>\n",
       "      <td>...</td>\n",
       "      <td>...</td>\n",
       "      <td>...</td>\n",
       "      <td>...</td>\n",
       "      <td>...</td>\n",
       "      <td>...</td>\n",
       "      <td>...</td>\n",
       "      <td>...</td>\n",
       "      <td>...</td>\n",
       "      <td>...</td>\n",
       "      <td>...</td>\n",
       "      <td>...</td>\n",
       "    </tr>\n",
       "    <tr>\n",
       "      <th>17961</th>\n",
       "      <td>2017</td>\n",
       "      <td>8999</td>\n",
       "      <td>16700.0</td>\n",
       "      <td>150</td>\n",
       "      <td>47.1</td>\n",
       "      <td>1.4</td>\n",
       "      <td>5</td>\n",
       "      <td>0</td>\n",
       "      <td>0</td>\n",
       "      <td>0</td>\n",
       "      <td>...</td>\n",
       "      <td>0</td>\n",
       "      <td>0</td>\n",
       "      <td>0</td>\n",
       "      <td>0</td>\n",
       "      <td>1</td>\n",
       "      <td>0</td>\n",
       "      <td>0</td>\n",
       "      <td>0</td>\n",
       "      <td>0</td>\n",
       "      <td>1</td>\n",
       "    </tr>\n",
       "    <tr>\n",
       "      <th>17962</th>\n",
       "      <td>2014</td>\n",
       "      <td>7499</td>\n",
       "      <td>40700.0</td>\n",
       "      <td>30</td>\n",
       "      <td>57.7</td>\n",
       "      <td>1.0</td>\n",
       "      <td>1</td>\n",
       "      <td>0</td>\n",
       "      <td>0</td>\n",
       "      <td>0</td>\n",
       "      <td>...</td>\n",
       "      <td>0</td>\n",
       "      <td>0</td>\n",
       "      <td>0</td>\n",
       "      <td>0</td>\n",
       "      <td>1</td>\n",
       "      <td>0</td>\n",
       "      <td>0</td>\n",
       "      <td>0</td>\n",
       "      <td>0</td>\n",
       "      <td>1</td>\n",
       "    </tr>\n",
       "    <tr>\n",
       "      <th>17963</th>\n",
       "      <td>2015</td>\n",
       "      <td>9999</td>\n",
       "      <td>7010.0</td>\n",
       "      <td>20</td>\n",
       "      <td>67.3</td>\n",
       "      <td>1.6</td>\n",
       "      <td>7</td>\n",
       "      <td>0</td>\n",
       "      <td>0</td>\n",
       "      <td>0</td>\n",
       "      <td>...</td>\n",
       "      <td>0</td>\n",
       "      <td>0</td>\n",
       "      <td>0</td>\n",
       "      <td>0</td>\n",
       "      <td>1</td>\n",
       "      <td>0</td>\n",
       "      <td>0</td>\n",
       "      <td>0</td>\n",
       "      <td>0</td>\n",
       "      <td>0</td>\n",
       "    </tr>\n",
       "    <tr>\n",
       "      <th>17964</th>\n",
       "      <td>2018</td>\n",
       "      <td>8299</td>\n",
       "      <td>5007.0</td>\n",
       "      <td>145</td>\n",
       "      <td>57.7</td>\n",
       "      <td>1.2</td>\n",
       "      <td>3</td>\n",
       "      <td>0</td>\n",
       "      <td>0</td>\n",
       "      <td>0</td>\n",
       "      <td>...</td>\n",
       "      <td>0</td>\n",
       "      <td>0</td>\n",
       "      <td>0</td>\n",
       "      <td>0</td>\n",
       "      <td>1</td>\n",
       "      <td>0</td>\n",
       "      <td>0</td>\n",
       "      <td>0</td>\n",
       "      <td>0</td>\n",
       "      <td>1</td>\n",
       "    </tr>\n",
       "    <tr>\n",
       "      <th>17965</th>\n",
       "      <td>2015</td>\n",
       "      <td>8299</td>\n",
       "      <td>5007.0</td>\n",
       "      <td>22</td>\n",
       "      <td>57.7</td>\n",
       "      <td>1.0</td>\n",
       "      <td>1</td>\n",
       "      <td>0</td>\n",
       "      <td>0</td>\n",
       "      <td>0</td>\n",
       "      <td>...</td>\n",
       "      <td>0</td>\n",
       "      <td>0</td>\n",
       "      <td>0</td>\n",
       "      <td>1</td>\n",
       "      <td>1</td>\n",
       "      <td>0</td>\n",
       "      <td>0</td>\n",
       "      <td>0</td>\n",
       "      <td>0</td>\n",
       "      <td>1</td>\n",
       "    </tr>\n",
       "  </tbody>\n",
       "</table>\n",
       "<p>17489 rows × 35 columns</p>\n",
       "</div>"
      ],
      "text/plain": [
       "       year  price  mileage  tax   mpg engineSize  Categorical_Encoded  \\\n",
       "0      2017  12000  15944.0  150  57.7        1.0                    1   \n",
       "1      2018  14000   9083.0  150  57.7        1.0                    1   \n",
       "2      2017  13000  12456.0  150  57.7        1.0                    1   \n",
       "3      2019  17500  10460.0  145  40.3        1.5                    6   \n",
       "4      2019  16500   1482.0  145  48.7        1.0                    1   \n",
       "...     ...    ...      ...  ...   ...        ...                  ...   \n",
       "17961  2017   8999  16700.0  150  47.1        1.4                    5   \n",
       "17962  2014   7499  40700.0   30  57.7        1.0                    1   \n",
       "17963  2015   9999   7010.0   20  67.3        1.6                    7   \n",
       "17964  2018   8299   5007.0  145  57.7        1.2                    3   \n",
       "17965  2015   8299   5007.0   22  57.7        1.0                    1   \n",
       "\n",
       "       model_ C-MAX  model_ EcoSport  model_ Edge  ...  \\\n",
       "0                 0                0            0  ...   \n",
       "1                 0                0            0  ...   \n",
       "2                 0                0            0  ...   \n",
       "3                 0                0            0  ...   \n",
       "4                 0                0            0  ...   \n",
       "...             ...              ...          ...  ...   \n",
       "17961             0                0            0  ...   \n",
       "17962             0                0            0  ...   \n",
       "17963             0                0            0  ...   \n",
       "17964             0                0            0  ...   \n",
       "17965             0                0            0  ...   \n",
       "\n",
       "       model_ Tourneo Connect  model_ Tourneo Custom  model_ Transit Tourneo  \\\n",
       "0                           0                      0                       0   \n",
       "1                           0                      0                       0   \n",
       "2                           0                      0                       0   \n",
       "3                           0                      0                       0   \n",
       "4                           0                      0                       0   \n",
       "...                       ...                    ...                     ...   \n",
       "17961                       0                      0                       0   \n",
       "17962                       0                      0                       0   \n",
       "17963                       0                      0                       0   \n",
       "17964                       0                      0                       0   \n",
       "17965                       0                      0                       0   \n",
       "\n",
       "       model_Focus  transmission_Manual  transmission_Semi-Auto  \\\n",
       "0                0                    0                       0   \n",
       "1                0                    1                       0   \n",
       "2                0                    1                       0   \n",
       "3                0                    1                       0   \n",
       "4                0                    0                       0   \n",
       "...            ...                  ...                     ...   \n",
       "17961            0                    1                       0   \n",
       "17962            0                    1                       0   \n",
       "17963            0                    1                       0   \n",
       "17964            0                    1                       0   \n",
       "17965            1                    1                       0   \n",
       "\n",
       "       fuelType_Electric  fuelType_Hybrid  fuelType_Other  fuelType_Petrol  \n",
       "0                      0                0               0                1  \n",
       "1                      0                0               0                1  \n",
       "2                      0                0               0                1  \n",
       "3                      0                0               0                1  \n",
       "4                      0                0               0                1  \n",
       "...                  ...              ...             ...              ...  \n",
       "17961                  0                0               0                1  \n",
       "17962                  0                0               0                1  \n",
       "17963                  0                0               0                0  \n",
       "17964                  0                0               0                1  \n",
       "17965                  0                0               0                1  \n",
       "\n",
       "[17489 rows x 35 columns]"
      ]
     },
     "execution_count": 155,
     "metadata": {},
     "output_type": "execute_result"
    }
   ],
   "source": [
    "df_encoded"
   ]
  },
  {
   "cell_type": "code",
   "execution_count": 156,
   "id": "300b4c5a",
   "metadata": {},
   "outputs": [
    {
     "data": {
      "text/html": [
       "<div>\n",
       "<style scoped>\n",
       "    .dataframe tbody tr th:only-of-type {\n",
       "        vertical-align: middle;\n",
       "    }\n",
       "\n",
       "    .dataframe tbody tr th {\n",
       "        vertical-align: top;\n",
       "    }\n",
       "\n",
       "    .dataframe thead th {\n",
       "        text-align: right;\n",
       "    }\n",
       "</style>\n",
       "<table border=\"1\" class=\"dataframe\">\n",
       "  <thead>\n",
       "    <tr style=\"text-align: right;\">\n",
       "      <th></th>\n",
       "      <th>year</th>\n",
       "      <th>price</th>\n",
       "      <th>mileage</th>\n",
       "      <th>tax</th>\n",
       "      <th>mpg</th>\n",
       "      <th>engineSize</th>\n",
       "      <th>Categorical_Encoded</th>\n",
       "      <th>model_ C-MAX</th>\n",
       "      <th>model_ EcoSport</th>\n",
       "      <th>model_ Edge</th>\n",
       "      <th>...</th>\n",
       "      <th>model_ Tourneo Connect</th>\n",
       "      <th>model_ Tourneo Custom</th>\n",
       "      <th>model_ Transit Tourneo</th>\n",
       "      <th>model_Focus</th>\n",
       "      <th>transmission_Manual</th>\n",
       "      <th>transmission_Semi-Auto</th>\n",
       "      <th>fuelType_Electric</th>\n",
       "      <th>fuelType_Hybrid</th>\n",
       "      <th>fuelType_Other</th>\n",
       "      <th>fuelType_Petrol</th>\n",
       "    </tr>\n",
       "  </thead>\n",
       "  <tbody>\n",
       "    <tr>\n",
       "      <th>0</th>\n",
       "      <td>2017</td>\n",
       "      <td>12000</td>\n",
       "      <td>15944.0</td>\n",
       "      <td>150</td>\n",
       "      <td>57.7</td>\n",
       "      <td>1.0</td>\n",
       "      <td>1</td>\n",
       "      <td>0</td>\n",
       "      <td>0</td>\n",
       "      <td>0</td>\n",
       "      <td>...</td>\n",
       "      <td>0</td>\n",
       "      <td>0</td>\n",
       "      <td>0</td>\n",
       "      <td>0</td>\n",
       "      <td>0</td>\n",
       "      <td>0</td>\n",
       "      <td>0</td>\n",
       "      <td>0</td>\n",
       "      <td>0</td>\n",
       "      <td>1</td>\n",
       "    </tr>\n",
       "    <tr>\n",
       "      <th>1</th>\n",
       "      <td>2018</td>\n",
       "      <td>14000</td>\n",
       "      <td>9083.0</td>\n",
       "      <td>150</td>\n",
       "      <td>57.7</td>\n",
       "      <td>1.0</td>\n",
       "      <td>1</td>\n",
       "      <td>0</td>\n",
       "      <td>0</td>\n",
       "      <td>0</td>\n",
       "      <td>...</td>\n",
       "      <td>0</td>\n",
       "      <td>0</td>\n",
       "      <td>0</td>\n",
       "      <td>0</td>\n",
       "      <td>1</td>\n",
       "      <td>0</td>\n",
       "      <td>0</td>\n",
       "      <td>0</td>\n",
       "      <td>0</td>\n",
       "      <td>1</td>\n",
       "    </tr>\n",
       "    <tr>\n",
       "      <th>2</th>\n",
       "      <td>2017</td>\n",
       "      <td>13000</td>\n",
       "      <td>12456.0</td>\n",
       "      <td>150</td>\n",
       "      <td>57.7</td>\n",
       "      <td>1.0</td>\n",
       "      <td>1</td>\n",
       "      <td>0</td>\n",
       "      <td>0</td>\n",
       "      <td>0</td>\n",
       "      <td>...</td>\n",
       "      <td>0</td>\n",
       "      <td>0</td>\n",
       "      <td>0</td>\n",
       "      <td>0</td>\n",
       "      <td>1</td>\n",
       "      <td>0</td>\n",
       "      <td>0</td>\n",
       "      <td>0</td>\n",
       "      <td>0</td>\n",
       "      <td>1</td>\n",
       "    </tr>\n",
       "    <tr>\n",
       "      <th>3</th>\n",
       "      <td>2019</td>\n",
       "      <td>17500</td>\n",
       "      <td>10460.0</td>\n",
       "      <td>145</td>\n",
       "      <td>40.3</td>\n",
       "      <td>1.5</td>\n",
       "      <td>6</td>\n",
       "      <td>0</td>\n",
       "      <td>0</td>\n",
       "      <td>0</td>\n",
       "      <td>...</td>\n",
       "      <td>0</td>\n",
       "      <td>0</td>\n",
       "      <td>0</td>\n",
       "      <td>0</td>\n",
       "      <td>1</td>\n",
       "      <td>0</td>\n",
       "      <td>0</td>\n",
       "      <td>0</td>\n",
       "      <td>0</td>\n",
       "      <td>1</td>\n",
       "    </tr>\n",
       "    <tr>\n",
       "      <th>4</th>\n",
       "      <td>2019</td>\n",
       "      <td>16500</td>\n",
       "      <td>1482.0</td>\n",
       "      <td>145</td>\n",
       "      <td>48.7</td>\n",
       "      <td>1.0</td>\n",
       "      <td>1</td>\n",
       "      <td>0</td>\n",
       "      <td>0</td>\n",
       "      <td>0</td>\n",
       "      <td>...</td>\n",
       "      <td>0</td>\n",
       "      <td>0</td>\n",
       "      <td>0</td>\n",
       "      <td>0</td>\n",
       "      <td>0</td>\n",
       "      <td>0</td>\n",
       "      <td>0</td>\n",
       "      <td>0</td>\n",
       "      <td>0</td>\n",
       "      <td>1</td>\n",
       "    </tr>\n",
       "    <tr>\n",
       "      <th>...</th>\n",
       "      <td>...</td>\n",
       "      <td>...</td>\n",
       "      <td>...</td>\n",
       "      <td>...</td>\n",
       "      <td>...</td>\n",
       "      <td>...</td>\n",
       "      <td>...</td>\n",
       "      <td>...</td>\n",
       "      <td>...</td>\n",
       "      <td>...</td>\n",
       "      <td>...</td>\n",
       "      <td>...</td>\n",
       "      <td>...</td>\n",
       "      <td>...</td>\n",
       "      <td>...</td>\n",
       "      <td>...</td>\n",
       "      <td>...</td>\n",
       "      <td>...</td>\n",
       "      <td>...</td>\n",
       "      <td>...</td>\n",
       "      <td>...</td>\n",
       "    </tr>\n",
       "    <tr>\n",
       "      <th>17961</th>\n",
       "      <td>2017</td>\n",
       "      <td>8999</td>\n",
       "      <td>16700.0</td>\n",
       "      <td>150</td>\n",
       "      <td>47.1</td>\n",
       "      <td>1.4</td>\n",
       "      <td>5</td>\n",
       "      <td>0</td>\n",
       "      <td>0</td>\n",
       "      <td>0</td>\n",
       "      <td>...</td>\n",
       "      <td>0</td>\n",
       "      <td>0</td>\n",
       "      <td>0</td>\n",
       "      <td>0</td>\n",
       "      <td>1</td>\n",
       "      <td>0</td>\n",
       "      <td>0</td>\n",
       "      <td>0</td>\n",
       "      <td>0</td>\n",
       "      <td>1</td>\n",
       "    </tr>\n",
       "    <tr>\n",
       "      <th>17962</th>\n",
       "      <td>2014</td>\n",
       "      <td>7499</td>\n",
       "      <td>40700.0</td>\n",
       "      <td>30</td>\n",
       "      <td>57.7</td>\n",
       "      <td>1.0</td>\n",
       "      <td>1</td>\n",
       "      <td>0</td>\n",
       "      <td>0</td>\n",
       "      <td>0</td>\n",
       "      <td>...</td>\n",
       "      <td>0</td>\n",
       "      <td>0</td>\n",
       "      <td>0</td>\n",
       "      <td>0</td>\n",
       "      <td>1</td>\n",
       "      <td>0</td>\n",
       "      <td>0</td>\n",
       "      <td>0</td>\n",
       "      <td>0</td>\n",
       "      <td>1</td>\n",
       "    </tr>\n",
       "    <tr>\n",
       "      <th>17963</th>\n",
       "      <td>2015</td>\n",
       "      <td>9999</td>\n",
       "      <td>7010.0</td>\n",
       "      <td>20</td>\n",
       "      <td>67.3</td>\n",
       "      <td>1.6</td>\n",
       "      <td>7</td>\n",
       "      <td>0</td>\n",
       "      <td>0</td>\n",
       "      <td>0</td>\n",
       "      <td>...</td>\n",
       "      <td>0</td>\n",
       "      <td>0</td>\n",
       "      <td>0</td>\n",
       "      <td>0</td>\n",
       "      <td>1</td>\n",
       "      <td>0</td>\n",
       "      <td>0</td>\n",
       "      <td>0</td>\n",
       "      <td>0</td>\n",
       "      <td>0</td>\n",
       "    </tr>\n",
       "    <tr>\n",
       "      <th>17964</th>\n",
       "      <td>2018</td>\n",
       "      <td>8299</td>\n",
       "      <td>5007.0</td>\n",
       "      <td>145</td>\n",
       "      <td>57.7</td>\n",
       "      <td>1.2</td>\n",
       "      <td>3</td>\n",
       "      <td>0</td>\n",
       "      <td>0</td>\n",
       "      <td>0</td>\n",
       "      <td>...</td>\n",
       "      <td>0</td>\n",
       "      <td>0</td>\n",
       "      <td>0</td>\n",
       "      <td>0</td>\n",
       "      <td>1</td>\n",
       "      <td>0</td>\n",
       "      <td>0</td>\n",
       "      <td>0</td>\n",
       "      <td>0</td>\n",
       "      <td>1</td>\n",
       "    </tr>\n",
       "    <tr>\n",
       "      <th>17965</th>\n",
       "      <td>2015</td>\n",
       "      <td>8299</td>\n",
       "      <td>5007.0</td>\n",
       "      <td>22</td>\n",
       "      <td>57.7</td>\n",
       "      <td>1.0</td>\n",
       "      <td>1</td>\n",
       "      <td>0</td>\n",
       "      <td>0</td>\n",
       "      <td>0</td>\n",
       "      <td>...</td>\n",
       "      <td>0</td>\n",
       "      <td>0</td>\n",
       "      <td>0</td>\n",
       "      <td>1</td>\n",
       "      <td>1</td>\n",
       "      <td>0</td>\n",
       "      <td>0</td>\n",
       "      <td>0</td>\n",
       "      <td>0</td>\n",
       "      <td>1</td>\n",
       "    </tr>\n",
       "  </tbody>\n",
       "</table>\n",
       "<p>17489 rows × 35 columns</p>\n",
       "</div>"
      ],
      "text/plain": [
       "       year  price  mileage  tax   mpg engineSize  Categorical_Encoded  \\\n",
       "0      2017  12000  15944.0  150  57.7        1.0                    1   \n",
       "1      2018  14000   9083.0  150  57.7        1.0                    1   \n",
       "2      2017  13000  12456.0  150  57.7        1.0                    1   \n",
       "3      2019  17500  10460.0  145  40.3        1.5                    6   \n",
       "4      2019  16500   1482.0  145  48.7        1.0                    1   \n",
       "...     ...    ...      ...  ...   ...        ...                  ...   \n",
       "17961  2017   8999  16700.0  150  47.1        1.4                    5   \n",
       "17962  2014   7499  40700.0   30  57.7        1.0                    1   \n",
       "17963  2015   9999   7010.0   20  67.3        1.6                    7   \n",
       "17964  2018   8299   5007.0  145  57.7        1.2                    3   \n",
       "17965  2015   8299   5007.0   22  57.7        1.0                    1   \n",
       "\n",
       "       model_ C-MAX  model_ EcoSport  model_ Edge  ...  \\\n",
       "0                 0                0            0  ...   \n",
       "1                 0                0            0  ...   \n",
       "2                 0                0            0  ...   \n",
       "3                 0                0            0  ...   \n",
       "4                 0                0            0  ...   \n",
       "...             ...              ...          ...  ...   \n",
       "17961             0                0            0  ...   \n",
       "17962             0                0            0  ...   \n",
       "17963             0                0            0  ...   \n",
       "17964             0                0            0  ...   \n",
       "17965             0                0            0  ...   \n",
       "\n",
       "       model_ Tourneo Connect  model_ Tourneo Custom  model_ Transit Tourneo  \\\n",
       "0                           0                      0                       0   \n",
       "1                           0                      0                       0   \n",
       "2                           0                      0                       0   \n",
       "3                           0                      0                       0   \n",
       "4                           0                      0                       0   \n",
       "...                       ...                    ...                     ...   \n",
       "17961                       0                      0                       0   \n",
       "17962                       0                      0                       0   \n",
       "17963                       0                      0                       0   \n",
       "17964                       0                      0                       0   \n",
       "17965                       0                      0                       0   \n",
       "\n",
       "       model_Focus  transmission_Manual  transmission_Semi-Auto  \\\n",
       "0                0                    0                       0   \n",
       "1                0                    1                       0   \n",
       "2                0                    1                       0   \n",
       "3                0                    1                       0   \n",
       "4                0                    0                       0   \n",
       "...            ...                  ...                     ...   \n",
       "17961            0                    1                       0   \n",
       "17962            0                    1                       0   \n",
       "17963            0                    1                       0   \n",
       "17964            0                    1                       0   \n",
       "17965            1                    1                       0   \n",
       "\n",
       "       fuelType_Electric  fuelType_Hybrid  fuelType_Other  fuelType_Petrol  \n",
       "0                      0                0               0                1  \n",
       "1                      0                0               0                1  \n",
       "2                      0                0               0                1  \n",
       "3                      0                0               0                1  \n",
       "4                      0                0               0                1  \n",
       "...                  ...              ...             ...              ...  \n",
       "17961                  0                0               0                1  \n",
       "17962                  0                0               0                1  \n",
       "17963                  0                0               0                0  \n",
       "17964                  0                0               0                1  \n",
       "17965                  0                0               0                1  \n",
       "\n",
       "[17489 rows x 35 columns]"
      ]
     },
     "execution_count": 156,
     "metadata": {},
     "output_type": "execute_result"
    }
   ],
   "source": [
    "df_encoded"
   ]
  },
  {
   "cell_type": "markdown",
   "id": "66a57bf9",
   "metadata": {},
   "source": [
    "# Splitting the feature and label"
   ]
  },
  {
   "cell_type": "code",
   "execution_count": 157,
   "id": "92642b41",
   "metadata": {},
   "outputs": [],
   "source": [
    "x=df_encoded.drop(columns=[\"price\"])\n",
    "y=df_encoded['price']"
   ]
  },
  {
   "cell_type": "code",
   "execution_count": 158,
   "id": "0b477743",
   "metadata": {},
   "outputs": [
    {
     "data": {
      "text/html": [
       "<div>\n",
       "<style scoped>\n",
       "    .dataframe tbody tr th:only-of-type {\n",
       "        vertical-align: middle;\n",
       "    }\n",
       "\n",
       "    .dataframe tbody tr th {\n",
       "        vertical-align: top;\n",
       "    }\n",
       "\n",
       "    .dataframe thead th {\n",
       "        text-align: right;\n",
       "    }\n",
       "</style>\n",
       "<table border=\"1\" class=\"dataframe\">\n",
       "  <thead>\n",
       "    <tr style=\"text-align: right;\">\n",
       "      <th></th>\n",
       "      <th>year</th>\n",
       "      <th>mileage</th>\n",
       "      <th>tax</th>\n",
       "      <th>mpg</th>\n",
       "      <th>engineSize</th>\n",
       "      <th>Categorical_Encoded</th>\n",
       "      <th>model_ C-MAX</th>\n",
       "      <th>model_ EcoSport</th>\n",
       "      <th>model_ Edge</th>\n",
       "      <th>model_ Escort</th>\n",
       "      <th>...</th>\n",
       "      <th>model_ Tourneo Connect</th>\n",
       "      <th>model_ Tourneo Custom</th>\n",
       "      <th>model_ Transit Tourneo</th>\n",
       "      <th>model_Focus</th>\n",
       "      <th>transmission_Manual</th>\n",
       "      <th>transmission_Semi-Auto</th>\n",
       "      <th>fuelType_Electric</th>\n",
       "      <th>fuelType_Hybrid</th>\n",
       "      <th>fuelType_Other</th>\n",
       "      <th>fuelType_Petrol</th>\n",
       "    </tr>\n",
       "  </thead>\n",
       "  <tbody>\n",
       "    <tr>\n",
       "      <th>0</th>\n",
       "      <td>2017</td>\n",
       "      <td>15944.0</td>\n",
       "      <td>150</td>\n",
       "      <td>57.7</td>\n",
       "      <td>1.0</td>\n",
       "      <td>1</td>\n",
       "      <td>0</td>\n",
       "      <td>0</td>\n",
       "      <td>0</td>\n",
       "      <td>0</td>\n",
       "      <td>...</td>\n",
       "      <td>0</td>\n",
       "      <td>0</td>\n",
       "      <td>0</td>\n",
       "      <td>0</td>\n",
       "      <td>0</td>\n",
       "      <td>0</td>\n",
       "      <td>0</td>\n",
       "      <td>0</td>\n",
       "      <td>0</td>\n",
       "      <td>1</td>\n",
       "    </tr>\n",
       "    <tr>\n",
       "      <th>1</th>\n",
       "      <td>2018</td>\n",
       "      <td>9083.0</td>\n",
       "      <td>150</td>\n",
       "      <td>57.7</td>\n",
       "      <td>1.0</td>\n",
       "      <td>1</td>\n",
       "      <td>0</td>\n",
       "      <td>0</td>\n",
       "      <td>0</td>\n",
       "      <td>0</td>\n",
       "      <td>...</td>\n",
       "      <td>0</td>\n",
       "      <td>0</td>\n",
       "      <td>0</td>\n",
       "      <td>0</td>\n",
       "      <td>1</td>\n",
       "      <td>0</td>\n",
       "      <td>0</td>\n",
       "      <td>0</td>\n",
       "      <td>0</td>\n",
       "      <td>1</td>\n",
       "    </tr>\n",
       "    <tr>\n",
       "      <th>2</th>\n",
       "      <td>2017</td>\n",
       "      <td>12456.0</td>\n",
       "      <td>150</td>\n",
       "      <td>57.7</td>\n",
       "      <td>1.0</td>\n",
       "      <td>1</td>\n",
       "      <td>0</td>\n",
       "      <td>0</td>\n",
       "      <td>0</td>\n",
       "      <td>0</td>\n",
       "      <td>...</td>\n",
       "      <td>0</td>\n",
       "      <td>0</td>\n",
       "      <td>0</td>\n",
       "      <td>0</td>\n",
       "      <td>1</td>\n",
       "      <td>0</td>\n",
       "      <td>0</td>\n",
       "      <td>0</td>\n",
       "      <td>0</td>\n",
       "      <td>1</td>\n",
       "    </tr>\n",
       "    <tr>\n",
       "      <th>3</th>\n",
       "      <td>2019</td>\n",
       "      <td>10460.0</td>\n",
       "      <td>145</td>\n",
       "      <td>40.3</td>\n",
       "      <td>1.5</td>\n",
       "      <td>6</td>\n",
       "      <td>0</td>\n",
       "      <td>0</td>\n",
       "      <td>0</td>\n",
       "      <td>0</td>\n",
       "      <td>...</td>\n",
       "      <td>0</td>\n",
       "      <td>0</td>\n",
       "      <td>0</td>\n",
       "      <td>0</td>\n",
       "      <td>1</td>\n",
       "      <td>0</td>\n",
       "      <td>0</td>\n",
       "      <td>0</td>\n",
       "      <td>0</td>\n",
       "      <td>1</td>\n",
       "    </tr>\n",
       "    <tr>\n",
       "      <th>4</th>\n",
       "      <td>2019</td>\n",
       "      <td>1482.0</td>\n",
       "      <td>145</td>\n",
       "      <td>48.7</td>\n",
       "      <td>1.0</td>\n",
       "      <td>1</td>\n",
       "      <td>0</td>\n",
       "      <td>0</td>\n",
       "      <td>0</td>\n",
       "      <td>0</td>\n",
       "      <td>...</td>\n",
       "      <td>0</td>\n",
       "      <td>0</td>\n",
       "      <td>0</td>\n",
       "      <td>0</td>\n",
       "      <td>0</td>\n",
       "      <td>0</td>\n",
       "      <td>0</td>\n",
       "      <td>0</td>\n",
       "      <td>0</td>\n",
       "      <td>1</td>\n",
       "    </tr>\n",
       "    <tr>\n",
       "      <th>...</th>\n",
       "      <td>...</td>\n",
       "      <td>...</td>\n",
       "      <td>...</td>\n",
       "      <td>...</td>\n",
       "      <td>...</td>\n",
       "      <td>...</td>\n",
       "      <td>...</td>\n",
       "      <td>...</td>\n",
       "      <td>...</td>\n",
       "      <td>...</td>\n",
       "      <td>...</td>\n",
       "      <td>...</td>\n",
       "      <td>...</td>\n",
       "      <td>...</td>\n",
       "      <td>...</td>\n",
       "      <td>...</td>\n",
       "      <td>...</td>\n",
       "      <td>...</td>\n",
       "      <td>...</td>\n",
       "      <td>...</td>\n",
       "      <td>...</td>\n",
       "    </tr>\n",
       "    <tr>\n",
       "      <th>17961</th>\n",
       "      <td>2017</td>\n",
       "      <td>16700.0</td>\n",
       "      <td>150</td>\n",
       "      <td>47.1</td>\n",
       "      <td>1.4</td>\n",
       "      <td>5</td>\n",
       "      <td>0</td>\n",
       "      <td>0</td>\n",
       "      <td>0</td>\n",
       "      <td>0</td>\n",
       "      <td>...</td>\n",
       "      <td>0</td>\n",
       "      <td>0</td>\n",
       "      <td>0</td>\n",
       "      <td>0</td>\n",
       "      <td>1</td>\n",
       "      <td>0</td>\n",
       "      <td>0</td>\n",
       "      <td>0</td>\n",
       "      <td>0</td>\n",
       "      <td>1</td>\n",
       "    </tr>\n",
       "    <tr>\n",
       "      <th>17962</th>\n",
       "      <td>2014</td>\n",
       "      <td>40700.0</td>\n",
       "      <td>30</td>\n",
       "      <td>57.7</td>\n",
       "      <td>1.0</td>\n",
       "      <td>1</td>\n",
       "      <td>0</td>\n",
       "      <td>0</td>\n",
       "      <td>0</td>\n",
       "      <td>0</td>\n",
       "      <td>...</td>\n",
       "      <td>0</td>\n",
       "      <td>0</td>\n",
       "      <td>0</td>\n",
       "      <td>0</td>\n",
       "      <td>1</td>\n",
       "      <td>0</td>\n",
       "      <td>0</td>\n",
       "      <td>0</td>\n",
       "      <td>0</td>\n",
       "      <td>1</td>\n",
       "    </tr>\n",
       "    <tr>\n",
       "      <th>17963</th>\n",
       "      <td>2015</td>\n",
       "      <td>7010.0</td>\n",
       "      <td>20</td>\n",
       "      <td>67.3</td>\n",
       "      <td>1.6</td>\n",
       "      <td>7</td>\n",
       "      <td>0</td>\n",
       "      <td>0</td>\n",
       "      <td>0</td>\n",
       "      <td>0</td>\n",
       "      <td>...</td>\n",
       "      <td>0</td>\n",
       "      <td>0</td>\n",
       "      <td>0</td>\n",
       "      <td>0</td>\n",
       "      <td>1</td>\n",
       "      <td>0</td>\n",
       "      <td>0</td>\n",
       "      <td>0</td>\n",
       "      <td>0</td>\n",
       "      <td>0</td>\n",
       "    </tr>\n",
       "    <tr>\n",
       "      <th>17964</th>\n",
       "      <td>2018</td>\n",
       "      <td>5007.0</td>\n",
       "      <td>145</td>\n",
       "      <td>57.7</td>\n",
       "      <td>1.2</td>\n",
       "      <td>3</td>\n",
       "      <td>0</td>\n",
       "      <td>0</td>\n",
       "      <td>0</td>\n",
       "      <td>0</td>\n",
       "      <td>...</td>\n",
       "      <td>0</td>\n",
       "      <td>0</td>\n",
       "      <td>0</td>\n",
       "      <td>0</td>\n",
       "      <td>1</td>\n",
       "      <td>0</td>\n",
       "      <td>0</td>\n",
       "      <td>0</td>\n",
       "      <td>0</td>\n",
       "      <td>1</td>\n",
       "    </tr>\n",
       "    <tr>\n",
       "      <th>17965</th>\n",
       "      <td>2015</td>\n",
       "      <td>5007.0</td>\n",
       "      <td>22</td>\n",
       "      <td>57.7</td>\n",
       "      <td>1.0</td>\n",
       "      <td>1</td>\n",
       "      <td>0</td>\n",
       "      <td>0</td>\n",
       "      <td>0</td>\n",
       "      <td>0</td>\n",
       "      <td>...</td>\n",
       "      <td>0</td>\n",
       "      <td>0</td>\n",
       "      <td>0</td>\n",
       "      <td>1</td>\n",
       "      <td>1</td>\n",
       "      <td>0</td>\n",
       "      <td>0</td>\n",
       "      <td>0</td>\n",
       "      <td>0</td>\n",
       "      <td>1</td>\n",
       "    </tr>\n",
       "  </tbody>\n",
       "</table>\n",
       "<p>17489 rows × 34 columns</p>\n",
       "</div>"
      ],
      "text/plain": [
       "       year  mileage  tax   mpg engineSize  Categorical_Encoded  model_ C-MAX  \\\n",
       "0      2017  15944.0  150  57.7        1.0                    1             0   \n",
       "1      2018   9083.0  150  57.7        1.0                    1             0   \n",
       "2      2017  12456.0  150  57.7        1.0                    1             0   \n",
       "3      2019  10460.0  145  40.3        1.5                    6             0   \n",
       "4      2019   1482.0  145  48.7        1.0                    1             0   \n",
       "...     ...      ...  ...   ...        ...                  ...           ...   \n",
       "17961  2017  16700.0  150  47.1        1.4                    5             0   \n",
       "17962  2014  40700.0   30  57.7        1.0                    1             0   \n",
       "17963  2015   7010.0   20  67.3        1.6                    7             0   \n",
       "17964  2018   5007.0  145  57.7        1.2                    3             0   \n",
       "17965  2015   5007.0   22  57.7        1.0                    1             0   \n",
       "\n",
       "       model_ EcoSport  model_ Edge  model_ Escort  ...  \\\n",
       "0                    0            0              0  ...   \n",
       "1                    0            0              0  ...   \n",
       "2                    0            0              0  ...   \n",
       "3                    0            0              0  ...   \n",
       "4                    0            0              0  ...   \n",
       "...                ...          ...            ...  ...   \n",
       "17961                0            0              0  ...   \n",
       "17962                0            0              0  ...   \n",
       "17963                0            0              0  ...   \n",
       "17964                0            0              0  ...   \n",
       "17965                0            0              0  ...   \n",
       "\n",
       "       model_ Tourneo Connect  model_ Tourneo Custom  model_ Transit Tourneo  \\\n",
       "0                           0                      0                       0   \n",
       "1                           0                      0                       0   \n",
       "2                           0                      0                       0   \n",
       "3                           0                      0                       0   \n",
       "4                           0                      0                       0   \n",
       "...                       ...                    ...                     ...   \n",
       "17961                       0                      0                       0   \n",
       "17962                       0                      0                       0   \n",
       "17963                       0                      0                       0   \n",
       "17964                       0                      0                       0   \n",
       "17965                       0                      0                       0   \n",
       "\n",
       "       model_Focus  transmission_Manual  transmission_Semi-Auto  \\\n",
       "0                0                    0                       0   \n",
       "1                0                    1                       0   \n",
       "2                0                    1                       0   \n",
       "3                0                    1                       0   \n",
       "4                0                    0                       0   \n",
       "...            ...                  ...                     ...   \n",
       "17961            0                    1                       0   \n",
       "17962            0                    1                       0   \n",
       "17963            0                    1                       0   \n",
       "17964            0                    1                       0   \n",
       "17965            1                    1                       0   \n",
       "\n",
       "       fuelType_Electric  fuelType_Hybrid  fuelType_Other  fuelType_Petrol  \n",
       "0                      0                0               0                1  \n",
       "1                      0                0               0                1  \n",
       "2                      0                0               0                1  \n",
       "3                      0                0               0                1  \n",
       "4                      0                0               0                1  \n",
       "...                  ...              ...             ...              ...  \n",
       "17961                  0                0               0                1  \n",
       "17962                  0                0               0                1  \n",
       "17963                  0                0               0                0  \n",
       "17964                  0                0               0                1  \n",
       "17965                  0                0               0                1  \n",
       "\n",
       "[17489 rows x 34 columns]"
      ]
     },
     "execution_count": 158,
     "metadata": {},
     "output_type": "execute_result"
    }
   ],
   "source": [
    "x"
   ]
  },
  {
   "cell_type": "markdown",
   "id": "3a943e80",
   "metadata": {},
   "source": [
    "# Train Test Split"
   ]
  },
  {
   "cell_type": "code",
   "execution_count": 159,
   "id": "619bffb5",
   "metadata": {},
   "outputs": [],
   "source": [
    "from sklearn.model_selection import train_test_split\n",
    "x_train,x_test,y_train,y_test=train_test_split(x,y,train_size=0.70,random_state=12)"
   ]
  },
  {
   "cell_type": "code",
   "execution_count": 160,
   "id": "a24b2c0f",
   "metadata": {},
   "outputs": [],
   "source": [
    "from sklearn.linear_model import LinearRegression\n",
    "reg=LinearRegression()\n",
    "model=reg.fit(x_train,y_train)"
   ]
  },
  {
   "cell_type": "code",
   "execution_count": 161,
   "id": "ba4a0018",
   "metadata": {},
   "outputs": [],
   "source": [
    "y_pred=model.predict(x_test)"
   ]
  },
  {
   "cell_type": "code",
   "execution_count": 162,
   "id": "2df15b59",
   "metadata": {},
   "outputs": [
    {
     "name": "stdout",
     "output_type": "stream",
     "text": [
      "mean absolute error: 1325.5090427813304\n",
      "mean squared error: 3016618.6342385\n",
      "root mean squared error: 1736.84156854864\n",
      "r2-score: 0.847940438371582\n"
     ]
    }
   ],
   "source": [
    "from sklearn.metrics import mean_absolute_error,r2_score,mean_squared_error\n",
    "\n",
    "print(\"mean absolute error:\",mean_absolute_error(y_test,y_pred))\n",
    "print(\"mean squared error:\",mean_squared_error(y_test,y_pred))\n",
    "print(\"root mean squared error:\",np.sqrt(mean_squared_error(y_test,y_pred)))\n",
    "print(\"r2-score:\",r2_score(y_test,y_pred))"
   ]
  },
  {
   "cell_type": "code",
   "execution_count": null,
   "id": "384f71a2",
   "metadata": {},
   "outputs": [],
   "source": []
  },
  {
   "cell_type": "markdown",
   "id": "37ffedb2",
   "metadata": {},
   "source": [
    "# Trying to improve Score through regularisation"
   ]
  },
  {
   "cell_type": "markdown",
   "id": "0e54f85f",
   "metadata": {},
   "source": [
    "**TEST 1: Tried regularisation and label encoding**"
   ]
  },
  {
   "cell_type": "code",
   "execution_count": 163,
   "id": "82c4c36b",
   "metadata": {},
   "outputs": [
    {
     "name": "stdout",
     "output_type": "stream",
     "text": [
      "mean absolute error: 1325.5090427813304\n",
      "mean squared error: 3016618.6342385\n",
      "root mean squared error: 1736.84156854864\n",
      "r2-score: 0.847940438371582\n"
     ]
    }
   ],
   "source": [
    "#Label encoding and testing, score fell\n",
    "from sklearn.preprocessing import LabelEncoder\n",
    "from sklearn.linear_model import Ridge\n",
    "\n",
    "labelencoder = LabelEncoder()\n",
    "df1=df\n",
    "\n",
    "df1['model'] = labelencoder.fit_transform(df1['model'])\n",
    "df1['transmission'] = labelencoder.fit_transform(df1['transmission'])\n",
    "df1['fuelType'] = labelencoder.fit_transform(df1['fuelType'])\n",
    "\n",
    "x=df1.drop(columns=[\"price\"])\n",
    "y=df1['price']\n",
    "\n",
    "x_train,x_test,y_train,y_test=train_test_split(x,y,train_size=0.70,random_state=12)\n",
    "alpha = 1.0  \n",
    "reg = Ridge(alpha=alpha)\n",
    "model = reg.fit(x_train, y_train)\n",
    "y_test_pred = model.predict(x_test)\n",
    "\n",
    "print(\"mean absolute error:\",mean_absolute_error(y_test,y_pred))\n",
    "print(\"mean squared error:\",mean_squared_error(y_test,y_pred))\n",
    "print(\"root mean squared error:\",np.sqrt(mean_squared_error(y_test,y_pred)))\n",
    "print(\"r2-score:\",r2_score(y_test,y_pred))"
   ]
  },
  {
   "cell_type": "markdown",
   "id": "cafbb0b2",
   "metadata": {},
   "source": [
    "Score dropped, hence not considering it"
   ]
  },
  {
   "cell_type": "markdown",
   "id": "bd0b11f4",
   "metadata": {},
   "source": [
    "**Tried Regularisation and one hot encoding**"
   ]
  },
  {
   "cell_type": "code",
   "execution_count": 164,
   "id": "6fef1858",
   "metadata": {},
   "outputs": [],
   "source": [
    "df2=df_encoded"
   ]
  },
  {
   "cell_type": "code",
   "execution_count": 165,
   "id": "8fe5b39b",
   "metadata": {},
   "outputs": [],
   "source": [
    "x=df2.drop(columns=[\"price\"])\n",
    "y=df2['price']\n",
    "\n",
    "x_train,x_test,y_train,y_test=train_test_split(x,y,train_size=0.70,random_state=12)\n",
    "alpha = 1.0  \n",
    "reg = Ridge(alpha=alpha)\n",
    "model = reg.fit(x_train, y_train)\n",
    "y_test_pred = model.predict(x_test)"
   ]
  },
  {
   "cell_type": "code",
   "execution_count": 166,
   "id": "e33bba7f",
   "metadata": {},
   "outputs": [
    {
     "name": "stdout",
     "output_type": "stream",
     "text": [
      "mean absolute error: 1325.5090427813304\n",
      "mean squared error: 3016618.6342385\n",
      "root mean squared error: 1736.84156854864\n",
      "r2-score: 0.847940438371582\n"
     ]
    }
   ],
   "source": [
    "print(\"mean absolute error:\",mean_absolute_error(y_test,y_pred))\n",
    "print(\"mean squared error:\",mean_squared_error(y_test,y_pred))\n",
    "print(\"root mean squared error:\",np.sqrt(mean_squared_error(y_test,y_pred)))\n",
    "print(\"r2-score:\",r2_score(y_test,y_pred))"
   ]
  },
  {
   "cell_type": "markdown",
   "id": "1adb775e",
   "metadata": {},
   "source": [
    "**Tried Regularisation and feature selection**"
   ]
  },
  {
   "cell_type": "code",
   "execution_count": 167,
   "id": "ab5e492d",
   "metadata": {},
   "outputs": [],
   "source": [
    "df3=df_encoded\n",
    "X=df2.drop(columns=[\"price\"])\n",
    "y=df2['price']"
   ]
  },
  {
   "cell_type": "code",
   "execution_count": 168,
   "id": "fbd68f45",
   "metadata": {},
   "outputs": [
    {
     "name": "stdout",
     "output_type": "stream",
     "text": [
      "                        Variable         VIF\n",
      "0                           year  562.385036\n",
      "1                        mileage    3.662224\n",
      "2                            tax    7.221864\n",
      "3                            mpg  185.276377\n",
      "4                     engineSize  420.229487\n",
      "5            Categorical_Encoded   95.954861\n",
      "6                   model_ C-MAX    2.542106\n",
      "7                model_ EcoSport    4.449676\n",
      "8                    model_ Edge    1.872969\n",
      "9                  model_ Escort    1.004070\n",
      "10                 model_ Fiesta   19.972062\n",
      "11                  model_ Focus   14.008385\n",
      "12                 model_ Fusion    1.038208\n",
      "13                 model_ Galaxy    1.775795\n",
      "14            model_ Grand C-MAX    1.758809\n",
      "15  model_ Grand Tourneo Connect    1.197704\n",
      "16                     model_ KA    1.554943\n",
      "17                    model_ Ka+    2.566714\n",
      "18                   model_ Kuga    8.531450\n",
      "19                 model_ Mondeo    2.465937\n",
      "20                model_ Mustang    1.054082\n",
      "21                   model_ Puma    1.260662\n",
      "22                  model_ S-MAX    1.994572\n",
      "23               model_ Streetka    1.009354\n",
      "24        model_ Tourneo Connect    1.112762\n",
      "25         model_ Tourneo Custom    1.369622\n",
      "26        model_ Transit Tourneo    1.005316\n",
      "27                   model_Focus    1.003258\n",
      "28           transmission_Manual   14.867375\n",
      "29        transmission_Semi-Auto    1.868485\n",
      "30             fuelType_Electric    1.007073\n",
      "31               fuelType_Hybrid    1.041672\n",
      "32                fuelType_Other    1.003501\n",
      "33               fuelType_Petrol   28.262095\n"
     ]
    }
   ],
   "source": [
    "from statsmodels.stats.outliers_influence import variance_inflation_factor\n",
    "vif = pd.DataFrame()\n",
    "vif['Variable'] = X.columns\n",
    "vif['VIF'] = [variance_inflation_factor(X, i) for i in range(X.shape[1])]\n",
    "\n",
    "print(vif)\n"
   ]
  },
  {
   "cell_type": "markdown",
   "id": "b90191ef",
   "metadata": {},
   "source": [
    "dropping features with high vif score"
   ]
  },
  {
   "cell_type": "code",
   "execution_count": 169,
   "id": "669df80a",
   "metadata": {},
   "outputs": [
    {
     "data": {
      "text/html": [
       "<div>\n",
       "<style scoped>\n",
       "    .dataframe tbody tr th:only-of-type {\n",
       "        vertical-align: middle;\n",
       "    }\n",
       "\n",
       "    .dataframe tbody tr th {\n",
       "        vertical-align: top;\n",
       "    }\n",
       "\n",
       "    .dataframe thead th {\n",
       "        text-align: right;\n",
       "    }\n",
       "</style>\n",
       "<table border=\"1\" class=\"dataframe\">\n",
       "  <thead>\n",
       "    <tr style=\"text-align: right;\">\n",
       "      <th></th>\n",
       "      <th>model</th>\n",
       "      <th>price</th>\n",
       "      <th>transmission</th>\n",
       "      <th>mileage</th>\n",
       "      <th>fuelType</th>\n",
       "      <th>tax</th>\n",
       "      <th>Categorical_Encoded</th>\n",
       "    </tr>\n",
       "  </thead>\n",
       "  <tbody>\n",
       "    <tr>\n",
       "      <th>0</th>\n",
       "      <td>5</td>\n",
       "      <td>12000</td>\n",
       "      <td>0</td>\n",
       "      <td>15944.0</td>\n",
       "      <td>4</td>\n",
       "      <td>150</td>\n",
       "      <td>1</td>\n",
       "    </tr>\n",
       "    <tr>\n",
       "      <th>1</th>\n",
       "      <td>6</td>\n",
       "      <td>14000</td>\n",
       "      <td>1</td>\n",
       "      <td>9083.0</td>\n",
       "      <td>4</td>\n",
       "      <td>150</td>\n",
       "      <td>1</td>\n",
       "    </tr>\n",
       "    <tr>\n",
       "      <th>2</th>\n",
       "      <td>6</td>\n",
       "      <td>13000</td>\n",
       "      <td>1</td>\n",
       "      <td>12456.0</td>\n",
       "      <td>4</td>\n",
       "      <td>150</td>\n",
       "      <td>1</td>\n",
       "    </tr>\n",
       "    <tr>\n",
       "      <th>3</th>\n",
       "      <td>5</td>\n",
       "      <td>17500</td>\n",
       "      <td>1</td>\n",
       "      <td>10460.0</td>\n",
       "      <td>4</td>\n",
       "      <td>145</td>\n",
       "      <td>6</td>\n",
       "    </tr>\n",
       "    <tr>\n",
       "      <th>4</th>\n",
       "      <td>5</td>\n",
       "      <td>16500</td>\n",
       "      <td>0</td>\n",
       "      <td>1482.0</td>\n",
       "      <td>4</td>\n",
       "      <td>145</td>\n",
       "      <td>1</td>\n",
       "    </tr>\n",
       "    <tr>\n",
       "      <th>...</th>\n",
       "      <td>...</td>\n",
       "      <td>...</td>\n",
       "      <td>...</td>\n",
       "      <td>...</td>\n",
       "      <td>...</td>\n",
       "      <td>...</td>\n",
       "      <td>...</td>\n",
       "    </tr>\n",
       "    <tr>\n",
       "      <th>17961</th>\n",
       "      <td>0</td>\n",
       "      <td>8999</td>\n",
       "      <td>1</td>\n",
       "      <td>16700.0</td>\n",
       "      <td>4</td>\n",
       "      <td>150</td>\n",
       "      <td>5</td>\n",
       "    </tr>\n",
       "    <tr>\n",
       "      <th>17962</th>\n",
       "      <td>0</td>\n",
       "      <td>7499</td>\n",
       "      <td>1</td>\n",
       "      <td>40700.0</td>\n",
       "      <td>4</td>\n",
       "      <td>30</td>\n",
       "      <td>1</td>\n",
       "    </tr>\n",
       "    <tr>\n",
       "      <th>17963</th>\n",
       "      <td>6</td>\n",
       "      <td>9999</td>\n",
       "      <td>1</td>\n",
       "      <td>7010.0</td>\n",
       "      <td>0</td>\n",
       "      <td>20</td>\n",
       "      <td>7</td>\n",
       "    </tr>\n",
       "    <tr>\n",
       "      <th>17964</th>\n",
       "      <td>11</td>\n",
       "      <td>8299</td>\n",
       "      <td>1</td>\n",
       "      <td>5007.0</td>\n",
       "      <td>4</td>\n",
       "      <td>145</td>\n",
       "      <td>3</td>\n",
       "    </tr>\n",
       "    <tr>\n",
       "      <th>17965</th>\n",
       "      <td>22</td>\n",
       "      <td>8299</td>\n",
       "      <td>1</td>\n",
       "      <td>5007.0</td>\n",
       "      <td>4</td>\n",
       "      <td>22</td>\n",
       "      <td>1</td>\n",
       "    </tr>\n",
       "  </tbody>\n",
       "</table>\n",
       "<p>17489 rows × 7 columns</p>\n",
       "</div>"
      ],
      "text/plain": [
       "       model  price  transmission  mileage  fuelType  tax  Categorical_Encoded\n",
       "0          5  12000             0  15944.0         4  150                    1\n",
       "1          6  14000             1   9083.0         4  150                    1\n",
       "2          6  13000             1  12456.0         4  150                    1\n",
       "3          5  17500             1  10460.0         4  145                    6\n",
       "4          5  16500             0   1482.0         4  145                    1\n",
       "...      ...    ...           ...      ...       ...  ...                  ...\n",
       "17961      0   8999             1  16700.0         4  150                    5\n",
       "17962      0   7499             1  40700.0         4   30                    1\n",
       "17963      6   9999             1   7010.0         0   20                    7\n",
       "17964     11   8299             1   5007.0         4  145                    3\n",
       "17965     22   8299             1   5007.0         4   22                    1\n",
       "\n",
       "[17489 rows x 7 columns]"
      ]
     },
     "execution_count": 169,
     "metadata": {},
     "output_type": "execute_result"
    }
   ],
   "source": [
    "new_df=df.drop({'year',\"engineSize\",\"mpg\"},axis=1)\n",
    "new_df"
   ]
  },
  {
   "cell_type": "code",
   "execution_count": 171,
   "id": "84dc8943",
   "metadata": {},
   "outputs": [
    {
     "name": "stdout",
     "output_type": "stream",
     "text": [
      "mean absolute error: 1325.5090427813304\n",
      "mean squared error: 3016618.6342385\n",
      "root mean squared error: 1736.84156854864\n",
      "r2-score: 0.847940438371582\n"
     ]
    }
   ],
   "source": [
    "X=new_df.drop(columns=[\"price\"])\n",
    "y=new_df['price']\n",
    "\n",
    "x_train,x_test,y_train,y_test=train_test_split(X,y,train_size=0.70,random_state=12)\n",
    "alpha = 2.0  \n",
    "reg = Ridge(alpha=alpha)\n",
    "model = reg.fit(x_train, y_train)\n",
    "y_test_pred = model.predict(x_test)\n",
    "\n",
    "print(\"mean absolute error:\",mean_absolute_error(y_test,y_pred))\n",
    "print(\"mean squared error:\",mean_squared_error(y_test,y_pred))\n",
    "print(\"root mean squared error:\",np.sqrt(mean_squared_error(y_test,y_pred)))\n",
    "print(\"r2-score:\",r2_score(y_test,y_pred))"
   ]
  },
  {
   "cell_type": "code",
   "execution_count": null,
   "id": "147eff35",
   "metadata": {},
   "outputs": [],
   "source": []
  }
 ],
 "metadata": {
  "kernelspec": {
   "display_name": "Python 3 (ipykernel)",
   "language": "python",
   "name": "python3"
  },
  "language_info": {
   "codemirror_mode": {
    "name": "ipython",
    "version": 3
   },
   "file_extension": ".py",
   "mimetype": "text/x-python",
   "name": "python",
   "nbconvert_exporter": "python",
   "pygments_lexer": "ipython3",
   "version": "3.9.13"
  }
 },
 "nbformat": 4,
 "nbformat_minor": 5
}
